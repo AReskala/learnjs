{
  "cells": [
    {
      "cell_type": "markdown",
      "metadata": {
        "id": "n7BzBd-N9mS1"
      },
      "source": [
        "# Assignment 2: Text Classification with Various Neural Networks\n",
        "\n",
        "**Description:** This assignment covers various neural network architectures and components, largely used in the context of classification. You will compare Deep Averaging Networks, Deep Weighted Averaging Networks using Attention, and BERT-based models. You should also be able to develop an intuition for:\n",
        "\n",
        "\n",
        "*   The effects of fine-tuning word vectors or starting with random word vectors\n",
        "*   How various networks behave when the training set size changes\n",
        "*   The effect of shuffling your training data\n",
        "*   The benefits of Attention calculations\n",
        "*   Working with BERT\n",
        "\n",
        "\n",
        "The assignment notebook closely follows the lesson notebooks. We will use the IMDB dataset and will leverage some of the models, or part of the code, for our current investigation.\n",
        "\n",
        "The initial part of the notebook is purely setup. We will then evaluate how Attention can make Deep Averaging networks better. \n",
        "\n",
        "Do not try to run this entire notebook on your GCP instance as the training of models requires a GPU to work in a timely fashion. This notebook should be run on a Google Colab leveraging a GPU. By default, when you open the notebook in Colab it will try to use a GPU. Total runtime of the entire notebook (with solutions and a Colab GPU) should be about 1h.\n",
        "\n",
        "\n",
        "[![Open In Colab](https://colab.research.google.com/assets/colab-badge.svg)](https://colab.research.google.com/github/datasci-w266/2023-summer-main/blob/master/assignment/a2/Text_classification.ipynb)\n",
        "\n",
        "The overall assignment structure is as follows:\n",
        "\n",
        "\n",
        "1. Setup\n",
        "  \n",
        "  1.1 Libraries, Embeddings,  & Helper Functions\n",
        "\n",
        "  1.2 Data Acquisition\n",
        "\n",
        "  1.3. Data Preparation\n",
        "\n",
        "      1.3.1 Training/Test Sets using Word2Vec \n",
        "\n",
        "      1.3.2 Training/Test Sets for BERT-based models\n",
        "\n",
        "\n",
        "2. Classification with various Word2Vec-based Models\n",
        "\n",
        "  2.1 The Role of Shuffling of the Training Set\n",
        "\n",
        "  2.2 DAN vs Weighted Averaging Models using Attention\n",
        "\n",
        "    2.2.1 Warm-Up\n",
        "    \n",
        "    2.2.2 The WAN Model\n",
        "    \n",
        "  2.3 Approaches for Training of Embeddings \n",
        "\n",
        "\n",
        "3. Classification with BERT\n",
        "\n",
        "  3.1. BERT Basics\n",
        "\n",
        "  3.2 CLS-Token-based Classification \n",
        "\n",
        "  3.3 Averaging of BERT Outputs\n",
        "\n",
        "  3.4. Adding a CNN on top of BERT\n",
        "\n",
        "\n",
        "\n",
        "**INSTRUCTIONS:**: \n",
        "\n",
        "* Questions are always indicated as **QUESTION**, so you can search for this string to make sure you answered all of the questions. You are expected to fill out, run, and submit this notebook, as well as to answer the questions in the **answers** file as you did in a1.  Please do **not** remove the output from your notebooks when you submit them as we'll look at the output as well as your code for grading purposes.\n",
        "\n",
        "* **### YOUR CODE HERE** indicates that you are supposed to write code.\n",
        "\n",
        "* If you want to, you can run all of the cells in section 1 in bulk. This is setup work and no questions are in there. At the end of section 1 we will state all of the relevant variables that were defined and created in section 1.\n",
        "\n",
        "* Finally, unless otherwise indicated your validation accuracy will be 0.65 or higher if you have correctly implemented the model.\n",
        "\n"
      ]
    },
    {
      "cell_type": "markdown",
      "metadata": {
        "id": "so-yur1S9mS4"
      },
      "source": [
        "## 1. Setup\n",
        "\n",
        "### 1.1. Libraries and Helper Functions\n",
        "\n",
        "This notebook requires the TensorFlow dataset and other prerequisites that you must download. "
      ]
    },
    {
      "cell_type": "code",
      "execution_count": 15,
      "metadata": {
        "id": "8uQnMctL9mS5"
      },
      "outputs": [],
      "source": [
        "#@title Installs\n",
        "\n",
        "!pip install pydot --quiet\n",
        "!pip install gensim --quiet\n",
        "!pip install tensorflow-datasets --quiet\n",
        "!pip install -U tensorflow-text --quiet\n",
        "!pip install transformers --quiet"
      ]
    },
    {
      "cell_type": "markdown",
      "metadata": {
        "id": "ZFFBvPMR9mS8"
      },
      "source": [
        "Now we are ready to do the imports."
      ]
    },
    {
      "cell_type": "code",
      "execution_count": 16,
      "metadata": {
        "id": "Q8b9aykE9mS8"
      },
      "outputs": [],
      "source": [
        "#@title Imports\n",
        "\n",
        "import numpy as np\n",
        "import tensorflow as tf\n",
        "from tensorflow import keras\n",
        "\n",
        "from tensorflow.keras.layers import Embedding, Input, Dense, Lambda\n",
        "from tensorflow.keras.models import Model\n",
        "import tensorflow.keras.backend as K\n",
        "import tensorflow_datasets as tfds\n",
        "import tensorflow_text as tf_text\n",
        "\n",
        "from transformers import BertTokenizer, TFBertModel\n",
        "from transformers import logging\n",
        "logging.set_verbosity_error()\n",
        "\n",
        "import sklearn as sk\n",
        "import os\n",
        "import nltk\n",
        "from nltk.data import find\n",
        "\n",
        "import matplotlib.pyplot as plt\n",
        "\n",
        "import re\n",
        "\n",
        "import gensim\n",
        "from gensim.models import Word2Vec\n",
        "from gensim.models import KeyedVectors\n",
        "from gensim.test.utils import datapath"
      ]
    },
    {
      "cell_type": "markdown",
      "metadata": {
        "id": "ESElm33U9mS9"
      },
      "source": [
        "Below is a helper function to plot histories."
      ]
    },
    {
      "cell_type": "code",
      "execution_count": 17,
      "metadata": {
        "id": "YKWj6pPM9mS-"
      },
      "outputs": [],
      "source": [
        "#@title Plotting Function\n",
        "\n",
        "# 4-window plot. Small modification from matplotlib examples.\n",
        "\n",
        "def make_plot(axs,\n",
        "              model_history1, \n",
        "              model_history2, \n",
        "              model_1_name='model 1',\n",
        "              model_2_name='model 2',\n",
        "              ):\n",
        "    box = dict(facecolor='yellow', pad=5, alpha=0.2)\n",
        "\n",
        "    for i, metric in enumerate(['loss', 'accuracy']):\n",
        "        # small adjustment to account for the 2 accuracy measures in the Weighted Averging Model with Attention\n",
        "        if 'classification_%s' % metric in model_history2.history:\n",
        "            metric2 = 'classification_%s' % metric\n",
        "        else:\n",
        "            metric2 = metric\n",
        "        \n",
        "        y_lim_lower1 = np.min(model_history1.history[metric])\n",
        "        y_lim_lower2 = np.min(model_history2.history[metric2])\n",
        "        y_lim_lower = min(y_lim_lower1, y_lim_lower2) * 0.9\n",
        "\n",
        "        y_lim_upper1 = np.max(model_history1.history[metric])\n",
        "        y_lim_upper2 = np.max(model_history2.history[metric2])\n",
        "        y_lim_upper = max(y_lim_upper1, y_lim_upper2) * 1.1\n",
        "\n",
        "        for j, model_history in enumerate([model_history1, model_history2]):\n",
        "            model_name = [model_1_name, model_2_name][j]\n",
        "            model_metric = [metric, metric2][j]\n",
        "            ax1 = axs[i, j]\n",
        "            ax1.plot(model_history.history[model_metric])\n",
        "            ax1.plot(model_history.history['val_%s' % model_metric])\n",
        "            ax1.set_title('%s - %s' % (metric, model_name))\n",
        "            ax1.set_ylabel(metric, bbox=box)\n",
        "            ax1.set_ylim(y_lim_lower, y_lim_upper)"
      ]
    },
    {
      "cell_type": "markdown",
      "metadata": {
        "id": "1QDi-Kg49mS-"
      },
      "source": [
        "Next, we get the word2vec model from nltk."
      ]
    },
    {
      "cell_type": "code",
      "execution_count": 18,
      "metadata": {
        "colab": {
          "base_uri": "https://localhost:8080/"
        },
        "id": "49X1T6an9mS_",
        "outputId": "0a523fdf-d81a-4841-c01b-2096f7c42480"
      },
      "outputs": [
        {
          "output_type": "stream",
          "name": "stderr",
          "text": [
            "[nltk_data] Downloading package word2vec_sample to /root/nltk_data...\n",
            "[nltk_data]   Package word2vec_sample is already up-to-date!\n"
          ]
        }
      ],
      "source": [
        "#@title NLTK & Word2Vec\n",
        "\n",
        "nltk.download('word2vec_sample')\n",
        "\n",
        "word2vec_sample = str(find('models/word2vec_sample/pruned.word2vec.txt'))\n",
        "\n",
        "model = KeyedVectors.load_word2vec_format(datapath(word2vec_sample), binary=False)"
      ]
    },
    {
      "cell_type": "markdown",
      "metadata": {
        "id": "Y_rdVE3z9mTA"
      },
      "source": [
        "Now here we have the embedding **model** defined, let's see how many words are in the vocabulary:"
      ]
    },
    {
      "cell_type": "code",
      "execution_count": 19,
      "metadata": {
        "colab": {
          "base_uri": "https://localhost:8080/"
        },
        "id": "uoL6l_q89mTA",
        "outputId": "7afe94f1-fad4-48ab-a601-bbbbe3dff436"
      },
      "outputs": [
        {
          "output_type": "execute_result",
          "data": {
            "text/plain": [
              "43981"
            ]
          },
          "metadata": {},
          "execution_count": 19
        }
      ],
      "source": [
        "len(model)"
      ]
    },
    {
      "cell_type": "markdown",
      "metadata": {
        "id": "r3Q0zOkJ9mTB"
      },
      "source": [
        "What do the word vectors look like? As expected:"
      ]
    },
    {
      "cell_type": "code",
      "execution_count": 65,
      "metadata": {
        "colab": {
          "base_uri": "https://localhost:8080/"
        },
        "id": "ZyAGMYGK9mTB",
        "outputId": "3314a2a4-6d22-4afb-b25a-d8ae02686a1b"
      },
      "outputs": [
        {
          "output_type": "execute_result",
          "data": {
            "text/plain": [
              "array([ 0.0306035 ,  0.0886877 , -0.0121269 ,  0.0761965 ,  0.0566269 ,\n",
              "       -0.0424702 ,  0.0410129 , -0.0497567 , -0.00364328,  0.0632889 ,\n",
              "       -0.0142608 , -0.0791111 ,  0.0174877 , -0.0383064 ,  0.00926433,\n",
              "        0.0295626 ,  0.0770293 ,  0.0949334 , -0.0428866 , -0.0295626 ],\n",
              "      dtype=float32)"
            ]
          },
          "metadata": {},
          "execution_count": 65
        }
      ],
      "source": [
        "model['great'][:20]"
      ]
    },
    {
      "cell_type": "markdown",
      "metadata": {
        "id": "2BMraFZS9mTB"
      },
      "source": [
        "We can now build the embedding matrix and a vocabulary dictionary:"
      ]
    },
    {
      "cell_type": "code",
      "execution_count": 28,
      "metadata": {
        "id": "lOTIN3G39mTB"
      },
      "outputs": [],
      "source": [
        "EMBEDDING_DIM = len(model['university'])      # we know... it's 300\n",
        "\n",
        "# initialize embedding matrix and word-to-id map:  \n",
        "embedding_matrix = np.zeros((len(model) + 1, EMBEDDING_DIM))  \n",
        "vocab_dict = {}\n",
        "\n",
        "# build the embedding matrix and the word-to-id map:\n",
        "for i, word in enumerate(model.index_to_key):\n",
        "    embedding_vector = model[word]\n",
        "\n",
        "    if embedding_vector is not None:\n",
        "        # words not found in embedding index will be all-zeros.\n",
        "        embedding_matrix[i] = embedding_vector\n",
        "        vocab_dict[word] = i\n",
        "\n",
        "# we can use the last index at the end of the vocab for unknown tokens\n",
        "vocab_dict['[UNK]'] = len(vocab_dict)"
      ]
    },
    {
      "cell_type": "code",
      "execution_count": 66,
      "metadata": {
        "colab": {
          "base_uri": "https://localhost:8080/"
        },
        "id": "5KlSpLnP6VqA",
        "outputId": "15b8bed2-fceb-4cba-c0b9-c285a2e87c23"
      },
      "outputs": [
        {
          "output_type": "execute_result",
          "data": {
            "text/plain": [
              "(43982, 300)"
            ]
          },
          "metadata": {},
          "execution_count": 66
        }
      ],
      "source": [
        "embedding_matrix.shape"
      ]
    },
    {
      "cell_type": "code",
      "execution_count": 49,
      "metadata": {
        "colab": {
          "base_uri": "https://localhost:8080/"
        },
        "id": "LGYcZu0N9mTC",
        "outputId": "7c6623fe-8f94-4b6c-d69b-724e673f5c09"
      },
      "outputs": [
        {
          "output_type": "execute_result",
          "data": {
            "text/plain": [
              "array([[ 0.0891758 ,  0.121832  , -0.0671959 ,  0.0477279 , -0.013659  ],\n",
              "       [ 0.0526281 ,  0.013157  , -0.010104  ,  0.0540819 ,  0.0386715 ],\n",
              "       [ 0.0786419 ,  0.0373911 , -0.0131472 ,  0.0347375 ,  0.0288273 ],\n",
              "       [-0.00157585, -0.0564239 ,  0.00320281,  0.0422498 ,  0.15264399],\n",
              "       [ 0.0356899 , -0.00367283, -0.065534  ,  0.0213832 ,  0.00788408]])"
            ]
          },
          "metadata": {},
          "execution_count": 49
        }
      ],
      "source": [
        "embedding_matrix[:5, :5]"
      ]
    },
    {
      "cell_type": "markdown",
      "metadata": {
        "id": "YIL1eUtV9mTC"
      },
      "source": [
        "The last row consists of all zeros. We will use that for the UNK token, the placeholder token for unknown words.\n",
        "\n",
        "### 1.2 Data Acquisition\n",
        "\n",
        "\n",
        "We will use the IMDB dataset delivered as part of the TensorFlow-datasets library, and split into training and test sets. For expedience, we will limit ourselves in terms of train and test examples."
      ]
    },
    {
      "cell_type": "code",
      "execution_count": 50,
      "metadata": {
        "id": "uwOF0qYb9mTC"
      },
      "outputs": [],
      "source": [
        "train_data, test_data = tfds.load(\n",
        "    name=\"imdb_reviews\", \n",
        "    split=('train[:80%]', 'test[80%:]'),\n",
        "    as_supervised=True)\n",
        "\n",
        "train_examples, train_labels = next(iter(train_data.batch(20000)))\n",
        "test_examples, test_labels = next(iter(test_data.batch(5000)))"
      ]
    },
    {
      "cell_type": "markdown",
      "metadata": {
        "id": "mPHFtgGkHNOQ"
      },
      "source": [
        "It is always highly recommended to look at the data. What do the records look like? Are they clean or do they contain a lot of cruft (potential noise)?"
      ]
    },
    {
      "cell_type": "code",
      "execution_count": 56,
      "metadata": {
        "colab": {
          "base_uri": "https://localhost:8080/"
        },
        "id": "wvmWKdVQ9mTC",
        "outputId": "83fb851f-ed92-4c81-c9ff-d69c3606dd50"
      },
      "outputs": [
        {
          "output_type": "execute_result",
          "data": {
            "text/plain": [
              "<tf.Tensor: shape=(4,), dtype=string, numpy=\n",
              "array([b\"This was an absolutely terrible movie. Don't be lured in by Christopher Walken or Michael Ironside. Both are great actors, but this must simply be their worst role in history. Even their great acting could not redeem this movie's ridiculous storyline. This movie is an early nineties US propaganda piece. The most pathetic scenes were those when the Columbian rebels were making their cases for revolutions. Maria Conchita Alonso appeared phony, and her pseudo-love affair with Walken was nothing but a pathetic emotional plug in a movie that was devoid of any real meaning. I am disappointed that there are movies like this, ruining actor's like Christopher Walken's good name. I could barely sit through it.\",\n",
              "       b'I have been known to fall asleep during films, but this is usually due to a combination of things including, really tired, being warm and comfortable on the sette and having just eaten a lot. However on this occasion I fell asleep because the film was rubbish. The plot development was constant. Constantly slow and boring. Things seemed to happen, but with no explanation of what was causing them or why. I admit, I may have missed part of the film, but i watched the majority of it and everything just seemed to happen of its own accord without any real concern for anything else. I cant recommend this film at all.',\n",
              "       b'Mann photographs the Alberta Rocky Mountains in a superb fashion, and Jimmy Stewart and Walter Brennan give enjoyable performances as they always seem to do. <br /><br />But come on Hollywood - a Mountie telling the people of Dawson City, Yukon to elect themselves a marshal (yes a marshal!) and to enforce the law themselves, then gunfighters battling it out on the streets for control of the town? <br /><br />Nothing even remotely resembling that happened on the Canadian side of the border during the Klondike gold rush. Mr. Mann and company appear to have mistaken Dawson City for Deadwood, the Canadian North for the American Wild West.<br /><br />Canadian viewers be prepared for a Reefer Madness type of enjoyable howl with this ludicrous plot, or, to shake your head in disgust.',\n",
              "       b'This is the kind of film for a snowy Sunday afternoon when the rest of the world can go ahead with its own business as you descend into a big arm-chair and mellow for a couple of hours. Wonderful performances from Cher and Nicolas Cage (as always) gently row the plot along. There are no rapids to cross, no dangerous waters, just a warm and witty paddle through New York life at its best. A family film in every sense and one that deserves the praise it received.'],\n",
              "      dtype=object)>"
            ]
          },
          "metadata": {},
          "execution_count": 56
        }
      ],
      "source": [
        "train_examples[:4]"
      ]
    },
    {
      "cell_type": "code",
      "execution_count": 57,
      "metadata": {
        "colab": {
          "base_uri": "https://localhost:8080/"
        },
        "id": "BzEnCspD9mTD",
        "outputId": "52a4b7e4-2067-4920-b722-c408cfc53ca4"
      },
      "outputs": [
        {
          "output_type": "execute_result",
          "data": {
            "text/plain": [
              "<tf.Tensor: shape=(4,), dtype=int64, numpy=array([0, 0, 0, 1])>"
            ]
          },
          "metadata": {},
          "execution_count": 57
        }
      ],
      "source": [
        "train_labels[:4]"
      ]
    },
    {
      "cell_type": "markdown",
      "metadata": {
        "id": "CplHsqSDMKCa"
      },
      "source": [
        "For convenience, in this assignment we will define a sequence length and truncate all records at that length. For records that are shorter than our defined sequence length we will add padding characters to insure that our input shapes are consistent across all records."
      ]
    },
    {
      "cell_type": "code",
      "execution_count": 58,
      "metadata": {
        "id": "Zxu9U3qXMKTW"
      },
      "outputs": [],
      "source": [
        "MAX_SEQUENCE_LENGTH = 100"
      ]
    },
    {
      "cell_type": "markdown",
      "metadata": {
        "id": "1bHwj4vu9mTD"
      },
      "source": [
        "## 1.3. Data Preparation\n",
        "\n",
        "### 1.3.1. Training/Test Sets for Word2Vec-based Models\n",
        "\n",
        "First, we tokenize the data:"
      ]
    },
    {
      "cell_type": "code",
      "execution_count": 67,
      "metadata": {
        "id": "ToVTmC8V9mTD"
      },
      "outputs": [],
      "source": [
        "tokenizer = tf_text.WhitespaceTokenizer()\n",
        "train_tokens = tokenizer.tokenize(train_examples)\n",
        "test_tokens = tokenizer.tokenize(test_examples)"
      ]
    },
    {
      "cell_type": "markdown",
      "metadata": {
        "id": "qXauPwil9mTD"
      },
      "source": [
        "Let's look at some tokens.  Does they look acceptable?"
      ]
    },
    {
      "cell_type": "code",
      "execution_count": 68,
      "metadata": {
        "colab": {
          "base_uri": "https://localhost:8080/"
        },
        "id": "QZ22GGb-9mTD",
        "outputId": "a4a5fcc8-fe49-4d77-bd8e-488d9fbb6a0d"
      },
      "outputs": [
        {
          "output_type": "execute_result",
          "data": {
            "text/plain": [
              "<tf.Tensor: shape=(116,), dtype=string, numpy=\n",
              "array([b'This', b'was', b'an', b'absolutely', b'terrible', b'movie.',\n",
              "       b\"Don't\", b'be', b'lured', b'in', b'by', b'Christopher', b'Walken',\n",
              "       b'or', b'Michael', b'Ironside.', b'Both', b'are', b'great',\n",
              "       b'actors,', b'but', b'this', b'must', b'simply', b'be', b'their',\n",
              "       b'worst', b'role', b'in', b'history.', b'Even', b'their', b'great',\n",
              "       b'acting', b'could', b'not', b'redeem', b'this', b\"movie's\",\n",
              "       b'ridiculous', b'storyline.', b'This', b'movie', b'is', b'an',\n",
              "       b'early', b'nineties', b'US', b'propaganda', b'piece.', b'The',\n",
              "       b'most', b'pathetic', b'scenes', b'were', b'those', b'when',\n",
              "       b'the', b'Columbian', b'rebels', b'were', b'making', b'their',\n",
              "       b'cases', b'for', b'revolutions.', b'Maria', b'Conchita',\n",
              "       b'Alonso', b'appeared', b'phony,', b'and', b'her', b'pseudo-love',\n",
              "       b'affair', b'with', b'Walken', b'was', b'nothing', b'but', b'a',\n",
              "       b'pathetic', b'emotional', b'plug', b'in', b'a', b'movie', b'that',\n",
              "       b'was', b'devoid', b'of', b'any', b'real', b'meaning.', b'I',\n",
              "       b'am', b'disappointed', b'that', b'there', b'are', b'movies',\n",
              "       b'like', b'this,', b'ruining', b\"actor's\", b'like', b'Christopher',\n",
              "       b\"Walken's\", b'good', b'name.', b'I', b'could', b'barely', b'sit',\n",
              "       b'through', b'it.'], dtype=object)>"
            ]
          },
          "metadata": {},
          "execution_count": 68
        }
      ],
      "source": [
        "train_tokens[0]"
      ]
    },
    {
      "cell_type": "markdown",
      "metadata": {
        "id": "K9D9nqdg9mTE"
      },
      "source": [
        "Yup... looks right. Of course we will need to take care of the encoding later."
      ]
    },
    {
      "cell_type": "markdown",
      "metadata": {
        "id": "XiqFULXx9mTE"
      },
      "source": [
        "Next, we define a simple function that converts the tokens above into the appropriate word2vec index values.   "
      ]
    },
    {
      "cell_type": "code",
      "execution_count": 69,
      "metadata": {
        "id": "ytUsu3kmuM3n"
      },
      "outputs": [],
      "source": [
        "def docs_to_vocab_ids(tokenized_texts_list):\n",
        "    \"\"\"\n",
        "    converting a list of strings to a list of lists of word ids\n",
        "    \"\"\"\n",
        "    texts_vocab_ids = []\n",
        "    text_labels = []\n",
        "    valid_example_list = []\n",
        "    for i, token_list in enumerate(tokenized_texts_list):\n",
        "\n",
        "        # Get the vocab id for each token in this doc ([UNK] if not in vocab)\n",
        "        vocab_ids = []\n",
        "        for token in list(token_list.numpy()):\n",
        "            decoded = token.decode('utf-8', errors='ignore')\n",
        "            if decoded in vocab_dict:\n",
        "                vocab_ids.append(vocab_dict[decoded])\n",
        "            else:\n",
        "                vocab_ids.append(vocab_dict['[UNK]'])\n",
        "            \n",
        "        # Truncate text to max length, add padding up to max length\n",
        "        vocab_ids = vocab_ids[:MAX_SEQUENCE_LENGTH]\n",
        "        n_padding = (MAX_SEQUENCE_LENGTH - len(vocab_ids))\n",
        "        # For simplicity in this model, we'll just pad with unknown tokens\n",
        "        vocab_ids += [vocab_dict['[UNK]']] * n_padding\n",
        "        # Add this example to the list of converted docs\n",
        "        texts_vocab_ids.append(vocab_ids)\n",
        "            \n",
        "        if i % 5000 == 0:\n",
        "            print('Examples processed: ', i)\n",
        "\n",
        "    print('Total examples: ', i)\n",
        "    return np.array(texts_vocab_ids)"
      ]
    },
    {
      "cell_type": "markdown",
      "metadata": {
        "id": "gv_elC2m9mTE"
      },
      "source": [
        "Now we can create training and test data that can be fed into the models of interest.  We need to convert all of the tokens in to their respective input ids."
      ]
    },
    {
      "cell_type": "code",
      "execution_count": 70,
      "metadata": {
        "colab": {
          "base_uri": "https://localhost:8080/"
        },
        "id": "XpUJLBRkCbtE",
        "outputId": "546b92e3-3fab-4c1d-dc85-437f84f4d2f3"
      },
      "outputs": [
        {
          "output_type": "stream",
          "name": "stdout",
          "text": [
            "Examples processed:  0\n",
            "Examples processed:  5000\n",
            "Examples processed:  10000\n",
            "Examples processed:  15000\n",
            "Total examples:  19999\n",
            "Examples processed:  0\n",
            "Total examples:  4999\n"
          ]
        }
      ],
      "source": [
        "train_input_ids = docs_to_vocab_ids(train_tokens)\n",
        "test_input_ids = docs_to_vocab_ids(test_tokens)\n",
        "\n",
        "train_input_labels = np.array(train_labels)\n",
        "test_input_labels = np.array(test_labels)"
      ]
    },
    {
      "cell_type": "markdown",
      "metadata": {
        "id": "-dP2KY7U9mTF"
      },
      "source": [
        "Let's convince ourselves that the data looks correct:"
      ]
    },
    {
      "cell_type": "code",
      "execution_count": 88,
      "metadata": {
        "colab": {
          "base_uri": "https://localhost:8080/"
        },
        "id": "FtU56wVR9mTF",
        "outputId": "05d48421-813b-4803-bacb-3c4e5508d3a8"
      },
      "outputs": [
        {
          "output_type": "execute_result",
          "data": {
            "text/plain": [
              "array([[21531, 25272, 12291,  7427, 37254, 43981,  6891, 12917, 38232,\n",
              "        16915, 12929, 16182, 43981, 20526, 23487, 43981, 23807, 42958,\n",
              "        35058, 43981, 19123, 35029, 41270, 29275, 12917, 32597, 20659,\n",
              "          638, 16915, 43981,   174, 32597, 35058, 39971,  2326,  3636,\n",
              "        22434, 35029, 43981, 33922, 43981, 21531, 34710, 16908, 12291,\n",
              "        36880, 28137,  5376, 28038, 43981, 15402, 29155, 18063, 24951,\n",
              "        17433, 17595,  8856, 14193, 43981, 43248, 17433,  6290, 32597,\n",
              "         9001, 11511, 43981, 21807, 39168, 43981, 16856, 43981, 43981,\n",
              "        23245, 43981,  8889,  1331, 43981, 25272, 31976, 19123, 43981,\n",
              "        18063, 36309, 24099, 16915, 43981, 34710, 36633, 25272, 20413,\n",
              "        43981, 33458, 14926, 43981, 12139, 12289, 39617, 36633,  9483,\n",
              "        42958],\n",
              "       [12139,  7841, 19666, 31757, 43981, 17853, 25745, 15445, 43981,\n",
              "        19123, 35029, 16908, 21113, 21068, 43981, 43981,  5668, 43981,\n",
              "        33456, 43981, 34554, 43981,  1200, 27498, 43981, 18802, 20514,\n",
              "        14193, 43981, 43981, 23955, 14042, 15400, 43981, 43981, 32334,\n",
              "        20514, 35029,  7870, 12139, 17108, 25745, 43830, 14193, 28743,\n",
              "        25272, 43981, 15402, 17006,   222, 25272, 43981, 43981, 33994,\n",
              "        43981, 43981, 42659, 12375, 43981, 43981, 19123,  1331, 19870,\n",
              "         7816, 43981, 31696, 25272, 23801, 13877, 20526, 43981, 12139,\n",
              "        43981, 12139, 37939,  7841, 24998, 29109, 43981, 14193, 43981,\n",
              "        19123, 16266,  8017, 14193, 43099, 43981, 16909, 43981, 30811,\n",
              "        14042, 12375, 43981, 25574, 43981, 34511, 21851, 14087,  9370,\n",
              "        33458]])"
            ]
          },
          "metadata": {},
          "execution_count": 88
        }
      ],
      "source": [
        "train_input_ids[:2]"
      ]
    },
    {
      "cell_type": "markdown",
      "metadata": {
        "id": "L5svfigoOgaE"
      },
      "source": [
        "### 1.3.2. Training/Test Sets for BERT-based models\n",
        "\n",
        "We already imported the BERT model and the Tokenizer libraries. Now, let's load the pretrained BERT model and tokenizer. Always make sure to load the tokenizer that goes with the model you're going to use."
      ]
    },
    {
      "cell_type": "code",
      "execution_count": 89,
      "metadata": {
        "colab": {
          "base_uri": "https://localhost:8080/",
          "height": 145,
          "referenced_widgets": [
            "eea21dae36fb4022be03d9b0484ec52e",
            "96bd04723b4641fd9cfcddbdb647bb56",
            "37a5bf0322944edba51c634eed24768d",
            "b401de1e526048eb8729a8a6077c796b",
            "7f6c63477c924d4abc7a4cfc9fd33212",
            "994e222a55bc4f6b904576bb05e5c4f5",
            "383328f122ab4c678b0c0a95548673dc",
            "d5c70626bd4c40e59df718f54e10461a",
            "d0f949cf2d774028be8e81f1cf502856",
            "16254051649c484199be7c888bcec700",
            "902a8dbd8e324f768b198ca6927e6582",
            "4f92bf0cb8e543acaeb348bd080c0ff2",
            "cbc0f7e09ae34eedb9ca2de8833bc605",
            "e48faf6430cb48be9a2265e23d036a8d",
            "c24ca44ddcd244f987fbc2401742c7ca",
            "38c5aa7fe4464f788d2f29926ad7e0bb",
            "6ffd8342a2124f6fb260a27db0358fc7",
            "93f2c01cb9cc4a8e9b88f2ace9bc54ca",
            "b767b9294ec94ca68b4ef849790f2a7c",
            "f1c1525f70fb4bc2a3d524cf4d6f1030",
            "ecef82af0d48449d904ea510b4c529a4",
            "8d6195e5a9cc46c4a5d440605d1ad019",
            "1c8f8277737e4de5a5dd6c00ec8181d7",
            "19c10e294b29495b8742fc19c8f8a48a",
            "84e5791f95924916b590f470ad710a7e",
            "3d827400f8274ecab6b0341915ff3560",
            "22e27420b7c441e6813560a00122e062",
            "cd36060d5b06485ab952a7bbe943dd29",
            "e11f1cb91c134a6bb4bdd1cb27b17924",
            "ab5c235b06ba4adcb104054c63588882",
            "3a06314748d74a8f9ed564443ce663d6",
            "c7590a94fec9462082d196adf1d82ccc",
            "1439b0317e374a288803c1a1aa9c7dfb",
            "44b5375f61b8452084319c5466e21532",
            "e1766cfc00684cc1a6c6dcb140166354",
            "13a7306fa7a64fd7a2ccda647f363737",
            "63beb6192dda41b188142ffb3737f757",
            "2cdb2d77041349988eb4dc9db382acaf",
            "b06e0375efdb4460a393a1efbb9a6251",
            "5603ff6b579e40f39ba41578000a8c7b",
            "1022ddd719124b458604da36c1c758de",
            "35bdb5836e7c4152b0ddc25ecbe29852",
            "caf339a75738423192bb117a746b53dd",
            "4d310edf51d548ae995c58cac60e6cb7"
          ]
        },
        "id": "LEyBUFlT53zk",
        "outputId": "7d119ea6-1f8e-4bde-dabe-801477f98270"
      },
      "outputs": [
        {
          "output_type": "display_data",
          "data": {
            "text/plain": [
              "Downloading (…)solve/main/vocab.txt:   0%|          | 0.00/213k [00:00<?, ?B/s]"
            ],
            "application/vnd.jupyter.widget-view+json": {
              "version_major": 2,
              "version_minor": 0,
              "model_id": "eea21dae36fb4022be03d9b0484ec52e"
            }
          },
          "metadata": {}
        },
        {
          "output_type": "display_data",
          "data": {
            "text/plain": [
              "Downloading (…)okenizer_config.json:   0%|          | 0.00/29.0 [00:00<?, ?B/s]"
            ],
            "application/vnd.jupyter.widget-view+json": {
              "version_major": 2,
              "version_minor": 0,
              "model_id": "4f92bf0cb8e543acaeb348bd080c0ff2"
            }
          },
          "metadata": {}
        },
        {
          "output_type": "display_data",
          "data": {
            "text/plain": [
              "Downloading (…)lve/main/config.json:   0%|          | 0.00/570 [00:00<?, ?B/s]"
            ],
            "application/vnd.jupyter.widget-view+json": {
              "version_major": 2,
              "version_minor": 0,
              "model_id": "1c8f8277737e4de5a5dd6c00ec8181d7"
            }
          },
          "metadata": {}
        },
        {
          "output_type": "display_data",
          "data": {
            "text/plain": [
              "Downloading tf_model.h5:   0%|          | 0.00/527M [00:00<?, ?B/s]"
            ],
            "application/vnd.jupyter.widget-view+json": {
              "version_major": 2,
              "version_minor": 0,
              "model_id": "44b5375f61b8452084319c5466e21532"
            }
          },
          "metadata": {}
        }
      ],
      "source": [
        "bert_tokenizer = BertTokenizer.from_pretrained('bert-base-cased')\n",
        "bert_model = TFBertModel.from_pretrained('bert-base-cased')"
      ]
    },
    {
      "cell_type": "markdown",
      "metadata": {
        "id": "BuBp01dtAZ4e"
      },
      "source": [
        "Next, we will preprocess our train and test data for use in the BERT model. We need to convert our documents into vocab IDs, like we did above with the Word2Vec vocabulary. But this time we'll use the BERT tokenizer, which has a different vocabulary specific to the BERT model we're going to use."
      ]
    },
    {
      "cell_type": "code",
      "execution_count": 90,
      "metadata": {
        "id": "cpSk9zvw532w"
      },
      "outputs": [],
      "source": [
        "#@title BERT Tokenization of training and test data\n",
        "\n",
        "train_examples_str = [x.decode('utf-8') for x in train_examples.numpy()]\n",
        "test_examples_str = [x.decode('utf-8') for x in test_examples.numpy()]\n",
        "\n",
        "bert_train_tokenized = bert_tokenizer(train_examples_str,\n",
        "              max_length=MAX_SEQUENCE_LENGTH,\n",
        "              truncation=True,\n",
        "              padding='max_length',\n",
        "              return_tensors='tf')\n",
        "bert_train_inputs = [bert_train_tokenized.input_ids,\n",
        "                     bert_train_tokenized.token_type_ids,\n",
        "                     bert_train_tokenized.attention_mask]\n",
        "bert_train_labels = np.array(train_labels)\n",
        "\n",
        "bert_test_tokenized = bert_tokenizer(test_examples_str,\n",
        "              max_length=MAX_SEQUENCE_LENGTH,\n",
        "              truncation=True,\n",
        "              padding='max_length',\n",
        "              return_tensors='tf')\n",
        "bert_test_inputs = [bert_test_tokenized.input_ids,\n",
        "                     bert_test_tokenized.token_type_ids,\n",
        "                     bert_test_tokenized.attention_mask]\n",
        "bert_test_labels = np.array(test_labels)"
      ]
    },
    {
      "cell_type": "markdown",
      "metadata": {
        "id": "myNK4ZhQDQBL"
      },
      "source": [
        "Overall, here are the key variables and sets that we encoded for word2vec and BERT and that may be used moving forward. If the variable naming does not make it obvious, we also state the purpose:\n",
        "\n",
        "#### Parameters:\n",
        "\n",
        "* MAX_SEQUENCE_LENGTH (100)\n",
        "\n",
        "\n",
        "#### Word2vec-based models:\n",
        "\n",
        "* train(/test)_input_ids: input ids for the training(/test) sets for word2vec models\n",
        "* train(/test)_input_labels: the corresponding labels\n",
        "\n",
        "#### BERT:\n",
        "\n",
        "\n",
        "* bert_train(/test)_inputs: list of input_ids, token_type_ids and attention_mask for the training(/test) sets for BERT models\n",
        "* bert_train(/test)_labels: the corresponding labels for BERT\n",
        "\n",
        "**NOTE:** We recommend you inspect these variables if you have not gone through the code."
      ]
    },
    {
      "cell_type": "code",
      "source": [
        "bert_train_tokenized.words"
      ],
      "metadata": {
        "colab": {
          "base_uri": "https://localhost:8080/"
        },
        "id": "ChiZq7d7TKxE",
        "outputId": "d12ecdf3-7908-4e78-f266-01c58f8918e0"
      },
      "execution_count": 104,
      "outputs": [
        {
          "output_type": "execute_result",
          "data": {
            "text/plain": [
              "<bound method BatchEncoding.words of {'input_ids': <tf.Tensor: shape=(20000, 100), dtype=int32, numpy=\n",
              "array([[  101,  1188,  1108, ...,  1123, 23563,   102],\n",
              "       [  101,   146,  1138, ...,  1133,   178,   102],\n",
              "       [  101, 10852,  6810, ..., 16562,  1115,   102],\n",
              "       ...,\n",
              "       [  101, 10899,   117, ...,   163, 13041,   102],\n",
              "       [  101,  1966,   146, ...,  1109,  1864,   102],\n",
              "       [  101,  1188,   181, ...,  1107,  1385,   102]], dtype=int32)>, 'token_type_ids': <tf.Tensor: shape=(20000, 100), dtype=int32, numpy=\n",
              "array([[0, 0, 0, ..., 0, 0, 0],\n",
              "       [0, 0, 0, ..., 0, 0, 0],\n",
              "       [0, 0, 0, ..., 0, 0, 0],\n",
              "       ...,\n",
              "       [0, 0, 0, ..., 0, 0, 0],\n",
              "       [0, 0, 0, ..., 0, 0, 0],\n",
              "       [0, 0, 0, ..., 0, 0, 0]], dtype=int32)>, 'attention_mask': <tf.Tensor: shape=(20000, 100), dtype=int32, numpy=\n",
              "array([[1, 1, 1, ..., 1, 1, 1],\n",
              "       [1, 1, 1, ..., 1, 1, 1],\n",
              "       [1, 1, 1, ..., 1, 1, 1],\n",
              "       ...,\n",
              "       [1, 1, 1, ..., 1, 1, 1],\n",
              "       [1, 1, 1, ..., 1, 1, 1],\n",
              "       [1, 1, 1, ..., 1, 1, 1]], dtype=int32)>}>"
            ]
          },
          "metadata": {},
          "execution_count": 104
        }
      ]
    },
    {
      "cell_type": "markdown",
      "metadata": {
        "id": "vzbPHBf3GP2O"
      },
      "source": [
        "## 2. Classification with various Word2Vec-based Models"
      ]
    },
    {
      "cell_type": "markdown",
      "metadata": {
        "id": "H7yp2gI-AtCl"
      },
      "source": [
        "**QUESTION:**\n",
        "\n",
        "2.a. Revisit the dataset. Is it balanced? Find the percentage of positive examples in the training set. (Copy and paste the decimal value for your calculation, e.g. a number like 0.5678 or 0.8765)"
      ]
    },
    {
      "cell_type": "code",
      "execution_count": 114,
      "metadata": {
        "colab": {
          "base_uri": "https://localhost:8080/"
        },
        "id": "x6EAE6cjA9jM",
        "outputId": "5861a607-f94a-4384-fed1-9a8cb6345914"
      },
      "outputs": [
        {
          "output_type": "execute_result",
          "data": {
            "text/plain": [
              "0.49845"
            ]
          },
          "metadata": {},
          "execution_count": 114
        }
      ],
      "source": [
        "### YOUR CODE HERE\n",
        "np.count_nonzero(train_input_labels == 1) / np.size(train_input_labels)\n",
        "### END YOUR CODE"
      ]
    },
    {
      "cell_type": "markdown",
      "metadata": {
        "id": "mGkEVpmu6Bs2"
      },
      "source": [
        "**QUESTION:**\n",
        "\n",
        "2.b. Now find the percentage of positive examples in the test set.  (Copy and paste the decimal value for your calculation, e.g. a number like 0.5678 or 0.8765)"
      ]
    },
    {
      "cell_type": "code",
      "execution_count": 115,
      "metadata": {
        "colab": {
          "base_uri": "https://localhost:8080/"
        },
        "id": "2K_8eBTHArme",
        "outputId": "52195e4f-2666-4831-dd38-46dbacf82af0"
      },
      "outputs": [
        {
          "output_type": "execute_result",
          "data": {
            "text/plain": [
              "0.5026"
            ]
          },
          "metadata": {},
          "execution_count": 115
        }
      ],
      "source": [
        "### YOUR CODE HERE\n",
        "np.count_nonzero(test_input_labels == 1) / np.size(test_input_labels)\n",
        "### END YOUR CODE"
      ]
    },
    {
      "cell_type": "markdown",
      "metadata": {
        "id": "JY6X0wL3BQKD"
      },
      "source": [
        "### 2.1 The Role of Shuffling of the Training Set\n",
        "\n",
        "\n",
        "We will first revisit the DAN model. \n",
        "\n",
        "2. Reuse the code from the class notebook to build a DAN network with one hidden layer of dimension 100. The optimizer should be Adam. Wrap the model creation in a function according to this API:"
      ]
    },
    {
      "cell_type": "code",
      "execution_count": 133,
      "metadata": {
        "id": "vk-4mCgyBO9S"
      },
      "outputs": [],
      "source": [
        "def create_dan_model(retrain_embeddings=False, \n",
        "                     max_sequence_length=MAX_SEQUENCE_LENGTH,\n",
        "                     hidden_dim=100,\n",
        "                     dropout=0.3,\n",
        "                     embedding_initializer='word2vec', \n",
        "                     learning_rate=0.001):\n",
        "  \"\"\"\n",
        "  Construct the DAN model including the compilation and return it. Parametrize it using the arguments.\n",
        "  :param retrain_embeddings: boolean, indicating whether  the word embeddings are trainable\n",
        "  :param hidden_dim: dimension of the hidden layer\n",
        "  :param dropout: dropout applied to the hidden layer\n",
        "\n",
        "  :returns: the compiled model\n",
        "  \"\"\"\n",
        "\n",
        "  if embedding_initializer == 'word2vec':\n",
        "    embeddings_initializer=tf.keras.initializers.Constant(embedding_matrix)\n",
        "  else:\n",
        "    embeddings_initializer='uniform'\n",
        "\n",
        "  \n",
        "  ### YOUR CODE HERE\n",
        "\n",
        "  # start by creating the dan_embedding_layer. Use the embeddings_initializer. variable defined above.\n",
        "  dan_input_layer = tf.keras.layers.Input(shape=(max_sequence_length,), dtype='int64')\n",
        "  dan_embedding_layer = Embedding(embedding_matrix.shape[0],\n",
        "                                  embedding_matrix.shape[1],\n",
        "                                  embeddings_initializer=embeddings_initializer,\n",
        "                                  input_length=max_sequence_length,\n",
        "                                  trainable=retrain_embeddings)\n",
        "  dan_embeddings = dan_embedding_layer(dan_input_layer)\n",
        "  dan_avg_embeddings = tf.keras.layers.Lambda(lambda x: K.mean(x, axis=1),\n",
        "                                              name='averaging')(dan_embeddings)\n",
        "  last_hidden_output = dan_avg_embeddings\n",
        "\n",
        "  # for i, h_dim in enumerate(hidden_dim):\n",
        "  #     last_hidden_output = tf.keras.layers.Dense(h_dim, activation='relu',\n",
        "  #                                                 name='dan_hidden_%d' % i)(last_hidden_output)\n",
        "  #     last_hidden_output = tf.keras.layers.Dropout(dropout)(last_hidden_output)\n",
        "  last_hidden_output = tf.keras.layers.Dense(hidden_dim, activation='relu',\n",
        "                                              name='dan_hidden')(last_hidden_output)\n",
        "  last_hidden_output = tf.keras.layers.Dropout(dropout)(last_hidden_output)\n",
        "  \n",
        "  dan_classification = tf.keras.layers.Dense(1,\n",
        "                                              activation='sigmoid',\n",
        "                                              name='dan_classification')(last_hidden_output)\n",
        "  \n",
        "  dan_model = tf.keras.models.Model(inputs=dan_input_layer, outputs=[dan_classification])\n",
        "  dan_model.compile(loss='binary_crossentropy',\n",
        "                    optimizer=tf.keras.optimizers.Adam(learning_rate=0.001,\n",
        "                                                        beta_1=0.9,\n",
        "                                                        beta_2=0.999,\n",
        "                                                        epsilon=1e-07,\n",
        "                                                        amsgrad=False,\n",
        "                                                        name='Adam'),\n",
        "                    metrics='accuracy')\n",
        "\n",
        "  ### END YOUR CODE\n",
        "  return dan_model\n"
      ]
    },
    {
      "cell_type": "markdown",
      "metadata": {
        "id": "Hb4LOJkFlYwF"
      },
      "source": [
        "Let us create a sorted version of the training dataset to run our simulations:"
      ]
    },
    {
      "cell_type": "code",
      "execution_count": 134,
      "metadata": {
        "id": "ZX2hWslCflw1"
      },
      "outputs": [],
      "source": [
        "sorted_train_input_data = [(x, y) for (x, y) in zip(list(train_input_ids), list(train_input_labels))]\n",
        "sorted_train_input_data.sort(key = lambda x: x[1])\n",
        "sorted_training_input_ids = np.array([x[0] for x in sorted_train_input_data])\n",
        "sorted_training_labels = np.array([x[1] for x in sorted_train_input_data])"
      ]
    },
    {
      "cell_type": "markdown",
      "metadata": {
        "id": "riQ59wcQmtzs"
      },
      "source": [
        "Next, create your DAN model using the default parameters and train it by:\n",
        "\n",
        "1.  Using the sorted dataset\n",
        "2.  Using 'shuffle=False' as one of the model.fit parameters.\n",
        "3.  Train for 10 epochs with a batch size of 32\n",
        "\n",
        "Make sure you store the history (name it 'dan_sorted_history') as we did in the lesson notebooks. \n",
        "\n"
      ]
    },
    {
      "cell_type": "code",
      "execution_count": 157,
      "metadata": {
        "colab": {
          "base_uri": "https://localhost:8080/"
        },
        "id": "SIgwDUfpi7nu",
        "outputId": "65900385-0a8f-4ea6-a8db-06a9522b803b"
      },
      "outputs": [
        {
          "output_type": "stream",
          "name": "stdout",
          "text": [
            "Epoch 1/10\n",
            "625/625 [==============================] - 5s 5ms/step - loss: 0.2930 - accuracy: 0.9243 - val_loss: 2.4272 - val_accuracy: 0.5026\n",
            "Epoch 2/10\n",
            "625/625 [==============================] - 2s 3ms/step - loss: 0.7610 - accuracy: 0.6760 - val_loss: 1.2084 - val_accuracy: 0.5026\n",
            "Epoch 3/10\n",
            "625/625 [==============================] - 2s 4ms/step - loss: 0.6117 - accuracy: 0.7145 - val_loss: 1.1967 - val_accuracy: 0.5026\n",
            "Epoch 4/10\n",
            "625/625 [==============================] - 3s 5ms/step - loss: 0.5972 - accuracy: 0.7158 - val_loss: 1.1819 - val_accuracy: 0.5026\n",
            "Epoch 5/10\n",
            "625/625 [==============================] - 2s 3ms/step - loss: 0.5936 - accuracy: 0.7192 - val_loss: 1.1817 - val_accuracy: 0.5026\n",
            "Epoch 6/10\n",
            "625/625 [==============================] - 2s 3ms/step - loss: 0.5943 - accuracy: 0.7171 - val_loss: 1.1724 - val_accuracy: 0.5026\n",
            "Epoch 7/10\n",
            "625/625 [==============================] - 2s 3ms/step - loss: 0.5857 - accuracy: 0.7222 - val_loss: 1.1819 - val_accuracy: 0.5026\n",
            "Epoch 8/10\n",
            "625/625 [==============================] - 2s 3ms/step - loss: 0.5785 - accuracy: 0.7272 - val_loss: 1.1888 - val_accuracy: 0.5026\n",
            "Epoch 9/10\n",
            "625/625 [==============================] - 2s 3ms/step - loss: 0.5740 - accuracy: 0.7297 - val_loss: 1.1959 - val_accuracy: 0.5026\n",
            "Epoch 10/10\n",
            "625/625 [==============================] - 3s 4ms/step - loss: 0.5691 - accuracy: 0.7355 - val_loss: 1.2004 - val_accuracy: 0.5026\n"
          ]
        }
      ],
      "source": [
        "### YOUR CODE HERE\n",
        "\n",
        "dan_model_sorted = create_dan_model(retrain_embeddings=False,\n",
        "                                    max_sequence_length=MAX_SEQUENCE_LENGTH,\n",
        "                                    hidden_dim=100,\n",
        "                                    dropout=0.3,\n",
        "                                    embedding_initializer='word2vec', \n",
        "                                    learning_rate=0.001)\n",
        "\n",
        "# keras.utils.plot_model(dan_model_sorted, show_shapes=True, dpi=90)\n",
        "\n",
        "#use dan_sorted_history = ... below\n",
        "dan_sorted_history = dan_model_sorted.fit(x=sorted_training_input_ids,\n",
        "                                          y=sorted_training_labels,\n",
        "                                          validation_data=(test_input_ids, test_input_labels),\n",
        "                                          batch_size=32,\n",
        "                                          epochs=10,\n",
        "                                          shuffle=False\n",
        "                                          )\n",
        "### END YOUR CODE                        "
      ]
    },
    {
      "cell_type": "markdown",
      "metadata": {
        "id": "a4zFifGHMS1S"
      },
      "source": [
        "**QUESTION:**\n",
        "\n",
        "2.1.a What is the highest validation accuracy that you observed after you completed the 10 epochs? (Copy and paste the decimal value for the highest validation accuracy, e.g. a number like 0.5678 or 0.8765)\n",
        "\n",
        "Hint: You should have an accuracy number above 0.30.\n",
        "\n"
      ]
    },
    {
      "cell_type": "markdown",
      "metadata": {
        "id": "RUNYdZ8rnaNX"
      },
      "source": [
        "Next, recreate the same model and train it with **'shuffle=True'**. (Note that this is also the default.). Use 'dan_shuffled_history' for the history."
      ]
    },
    {
      "cell_type": "code",
      "execution_count": 158,
      "metadata": {
        "colab": {
          "base_uri": "https://localhost:8080/"
        },
        "id": "fEsrjV2QkCo_",
        "outputId": "0564c0fb-c204-4805-f4d6-8ea4edba87cd"
      },
      "outputs": [
        {
          "output_type": "stream",
          "name": "stdout",
          "text": [
            "Epoch 1/10\n",
            "625/625 [==============================] - 2s 3ms/step - loss: 0.7010 - accuracy: 0.5967 - val_loss: 0.6503 - val_accuracy: 0.6528\n",
            "Epoch 2/10\n",
            "625/625 [==============================] - 2s 3ms/step - loss: 0.6406 - accuracy: 0.6592 - val_loss: 0.6400 - val_accuracy: 0.6634\n",
            "Epoch 3/10\n",
            "625/625 [==============================] - 2s 3ms/step - loss: 0.6295 - accuracy: 0.6661 - val_loss: 0.6242 - val_accuracy: 0.6820\n",
            "Epoch 4/10\n",
            "625/625 [==============================] - 2s 4ms/step - loss: 0.6094 - accuracy: 0.6872 - val_loss: 0.6057 - val_accuracy: 0.6924\n",
            "Epoch 5/10\n",
            "625/625 [==============================] - 3s 5ms/step - loss: 0.5923 - accuracy: 0.6999 - val_loss: 0.5861 - val_accuracy: 0.7118\n",
            "Epoch 6/10\n",
            "625/625 [==============================] - 2s 3ms/step - loss: 0.5752 - accuracy: 0.7166 - val_loss: 0.5686 - val_accuracy: 0.7190\n",
            "Epoch 7/10\n",
            "625/625 [==============================] - 2s 3ms/step - loss: 0.5611 - accuracy: 0.7242 - val_loss: 0.5560 - val_accuracy: 0.7224\n",
            "Epoch 8/10\n",
            "625/625 [==============================] - 2s 3ms/step - loss: 0.5477 - accuracy: 0.7316 - val_loss: 0.5452 - val_accuracy: 0.7274\n",
            "Epoch 9/10\n",
            "625/625 [==============================] - 2s 3ms/step - loss: 0.5422 - accuracy: 0.7340 - val_loss: 0.5402 - val_accuracy: 0.7330\n",
            "Epoch 10/10\n",
            "625/625 [==============================] - 2s 4ms/step - loss: 0.5348 - accuracy: 0.7377 - val_loss: 0.5400 - val_accuracy: 0.7376\n"
          ]
        }
      ],
      "source": [
        "### YOUR CODE HERE\n",
        "\n",
        "dan_model_shuffled = create_dan_model()                                                      \n",
        "\n",
        "#use dan_shuffled_history = ... below\n",
        "dan_shuffled_history = dan_model_sorted.fit(x=sorted_training_input_ids,\n",
        "                                            y=sorted_training_labels,\n",
        "                                            validation_data=(test_input_ids, test_input_labels),\n",
        "                                            batch_size=32,\n",
        "                                            epochs=10,\n",
        "                                            shuffle=True\n",
        "                                            )\n",
        "\n",
        "### END YOUR CODE                        "
      ]
    },
    {
      "cell_type": "markdown",
      "metadata": {
        "id": "sXs6UX44ko7P"
      },
      "source": [
        "**QUESTION:**\n",
        "\n",
        "2.1.b What is the highest validation accuracy that you observed for the shuffled run after completing 10 epochs? (Copy and paste the decimal value for the highest validation accuracy, e.g. a number like 0.5678 or 0.8765)\n"
      ]
    },
    {
      "cell_type": "markdown",
      "metadata": {
        "id": "BYCwHBzyoY0_"
      },
      "source": [
        "Compare the 2 histories in a plot."
      ]
    },
    {
      "cell_type": "code",
      "execution_count": 159,
      "metadata": {
        "colab": {
          "base_uri": "https://localhost:8080/",
          "height": 860
        },
        "id": "ZAlGkoidkun-",
        "outputId": "357e3a18-3918-4cdf-bd56-c22ebe923906"
      },
      "outputs": [
        {
          "output_type": "display_data",
          "data": {
            "text/plain": [
              "<Figure size 1850x1050 with 4 Axes>"
            ],
            "image/png": "[encoded data removed]"
          },
          "metadata": {}
        }
      ],
      "source": [
        "fig, axs = plt.subplots(2, 2)\n",
        "fig.subplots_adjust(left=0.2, wspace=0.6)\n",
        "make_plot(axs, \n",
        "          dan_sorted_history,\n",
        "          dan_shuffled_history, \n",
        "          model_1_name='sorted',\n",
        "         model_2_name='shuffled')\n",
        "\n",
        "fig.align_ylabels(axs[:, 1])\n",
        "fig.set_size_inches(18.5, 10.5)\n",
        "plt.show()"
      ]
    },
    {
      "cell_type": "markdown",
      "metadata": {
        "id": "bRWLsg0WNdcE"
      },
      "source": [
        "### 2.2 DAN vs Weighted Averaging Models using Attention \n",
        "\n",
        "#### 2.2.1. Warm-Up: Manual Attention Calculation\n",
        "\n",
        "**QUESTION:**\n",
        "\n",
        "2.2.1.a Calculate the context vector for the following query and key/value vectors. You can do this manually, or you can use \n",
        "\n",
        "\n",
        "```\n",
        "tf.keras.layers.Attention()\n",
        "```\n",
        "\n",
        "2.2.1.b What are the weights for the key/value vectors?\n"
      ]
    },
    {
      "cell_type": "code",
      "execution_count": 161,
      "metadata": {
        "id": "fpLZyRImNdz5"
      },
      "outputs": [],
      "source": [
        "q = [1, 2., 1]\n",
        "\n",
        "k1 = v1 = [-1, -1, 3.]\n",
        "k2 = v2 = [1, 2, -5.]"
      ]
    },
    {
      "cell_type": "code",
      "execution_count": 162,
      "metadata": {
        "colab": {
          "base_uri": "https://localhost:8080/"
        },
        "id": "DSbKYfjEOmlh",
        "outputId": "e0ee5669-041f-47f3-847c-f50ed6a61e9b"
      },
      "outputs": [
        {
          "output_type": "execute_result",
          "data": {
            "text/plain": [
              "array([-1., -2.,  3.])"
            ]
          },
          "metadata": {},
          "execution_count": 162
        }
      ],
      "source": [
        "### YOUR CODE HERE\n",
        "w1 = np.multiply(q, k1)\n",
        "w1\n",
        "### END YOUR CODE"
      ]
    },
    {
      "cell_type": "markdown",
      "metadata": {
        "id": "68YFNDesI0Cv"
      },
      "source": [
        "#### 2.2.2 The 'WAN' Model\n",
        "\n",
        "\n",
        "Next, we would like to improve our DAN by attempting to train a neural net that learns to put more weight on some words than others. How could we do that? **Attention** is the answer!\n",
        "\n",
        "Here, we will build a model that you can call \"Weighted Averaging Models using Attention\". You should construct a network that uses attention to weight the input tokens for a given example.\n",
        "\n",
        "The core structure is the same as for the DAN network, so remember to re-use the embedding matrix you initialized earlier with word2vec embedding weights.\n",
        "\n",
        "However, there are obviously some critical changes from the DAN:\n",
        "\n",
        "1) How do I create a learnable query vector for the attention calculation that is supposed to generate the suitable token probabilities? And what is its size?\n",
        "\n",
        "2) What are the key vectors for the attention calculation?\n",
        "\n",
        "3) How does the averaging change? \n",
        "\n",
        "\n",
        "First, the key vectors should be the incoming word vectors.\n",
        "\n",
        "The query vector needs to have the size of the word vectors, as it needs to attend to them. A good way to create the query vector is to generate an embedding like vector easily by getting a single row of trained weights from a Dense layer if we pass in a value of one to multiply by that weight matrix in the usual way:\n",
        "\n",
        "\n",
        "```\n",
        "wan_query_layer = tf.keras.layers.Dense(embedding_matrix.shape[1])\n",
        "```\n",
        "\n",
        "That sounds great... but how do I use this to have a vector available in my calculation? And... make this vector available to all examples in the batch?\n",
        "\n",
        "What you can use is a 'fake input-like layer' that creates for each incoming batch example a '1', that then the query layer can get applied to.\n",
        "Assuming that the input layer for your network is **wan_input_layer**, this could be done with\n",
        "\n",
        "```\n",
        "wan_one_vector = tf.Variable(tf.ones((1, 1, 1)))\n",
        "wan_batch_of_ones = tf.tile(wan_one_vector, (tf.shape(wan_input_layer)[0], 1, 1)) \n",
        "```\n",
        "\n",
        "You could then have the query vector available for each example through:\n",
        "\n",
        "```\n",
        "wan_query_vector = wan_query_layer(wan_batch_of_ones)\n",
        "\n",
        "```\n",
        "\n",
        "You will see that this structure is essentially the same as what we did for word vectors, except that we had to replace the input layer with our fake layer, as there is no actual input. We will also have **2 outputs** (discussed in a bit.)\n",
        "\n",
        "How does the averaging change? You should use:\n",
        "\n",
        "```\n",
        "tf.keras.layers.Attention()\n",
        "```\n",
        "\n",
        "and make sure you consider the proper inputs and outputs for that calculation.\n",
        "\n",
        "So why 2 outputs, and how do we do that? First off, we need the output that makes the classification, as always. What is the second output? We also would like our model to provide us with the attention weights it calculated. This will tell us which words were considered how much for the context creation.\n",
        "\n",
        "Can we implement 2 outputs? You need to have a list of the two outputs. But note that you may also want to have a list of 2 cost function and 2 metrics. You can use 'None' both times to account for our new second output, and you can ignore the corresponding values that the model report. (In general, the total loss will be a sum of the individual losses. So one would rather construct a loss that always returns zero for the second loss, but as it is very small we can ignore this here.)\n",
        "\n",
        "Finally, you may want to reshape the output after the Attention layer, because the Attention layer will still give a sequence of vectors for each example. It will just be a sequence of one weighted average vector for each example. You may want to remove that middle dimension of size one so you just have a single vector for each example. You can do that with layers.Reshape():\n",
        "\n",
        "```\n",
        "wan_attention_output = tf.keras.layers.Reshape((wan_attention_output.shape[-1],))(wan_attention_output)\n",
        "```"
      ]
    },
    {
      "cell_type": "code",
      "execution_count": null,
      "metadata": {
        "id": "_9F8zY4WG3Mg"
      },
      "outputs": [],
      "source": [
        "def create_wan_model(retrain_embeddings=False, \n",
        "                     max_sequence_length=MAX_SEQUENCE_LENGTH,\n",
        "                     hidden_dim=100,\n",
        "                     dropout=0.3,\n",
        "                     embedding_initializer='word2vec',\n",
        "                     learning_rate=0.001):\n",
        "  \"\"\"\n",
        "  Construct the WAN model including the compilation and return it. Parametrize it using the arguments.\n",
        "  :param retrain_embeddings: boolean, indicating whether the word embeddings are trainable\n",
        "  :param hidden_dim: dimension of the hidden layer\n",
        "  :param dropout: dropout applied to the hidden layer\n",
        "\n",
        "  :returns: the compiled model\n",
        "  \"\"\"\n",
        "\n",
        "  if embedding_initializer == 'word2vec':\n",
        "    embeddings_initializer=tf.keras.initializers.Constant(embedding_matrix)\n",
        "  else:\n",
        "    embeddings_initializer='uniform'\n",
        "  \n",
        "  ### YOUR CODE HERE\n",
        "\n",
        "  wan_one_vector = tf.Variable(tf.ones((1, 1, 1)))\n",
        " \n",
        "    \n",
        "  wan_query_layer = tf.keras.layers.Dense(embedding_matrix.shape[1]) \n",
        "\n",
        "\n",
        "\n",
        "\n",
        "\n",
        "\n",
        "  ### END YOUR CODE\n",
        "    \n",
        "  return wan_model\n"
      ]
    },
    {
      "cell_type": "markdown",
      "metadata": {
        "id": "a5gnW7j8QHUo"
      },
      "source": [
        "Now train the model for the same dataset as we did for the DAN model (shuffled data) and save its history in a variable named 'wan_history'. "
      ]
    },
    {
      "cell_type": "code",
      "execution_count": null,
      "metadata": {
        "id": "A3WYcv0CNMGC"
      },
      "outputs": [],
      "source": [
        "### YOUR CODE HERE\n",
        "\n",
        "wan_model = create_wan_model()\n",
        "\n",
        "# use wan_history = ... below\n",
        "\n",
        "\n",
        "### END YOUR CODE"
      ]
    },
    {
      "cell_type": "markdown",
      "metadata": {
        "id": "8P0r4zH4k59o"
      },
      "source": [
        "**QUESTION:**\n",
        "\n",
        "2.2.2.a What is the highest validation accuracy that you observed for the wan training after 10 epochs? (Copy and paste the decimal value for the highest validation accuracy, e.g. a number like 0.5678 or 0.8765)\n"
      ]
    },
    {
      "cell_type": "markdown",
      "metadata": {
        "id": "ZAgsZiy8Nx1U"
      },
      "source": [
        "Now compare the results of the initial dan_model training and the wan_model training:"
      ]
    },
    {
      "cell_type": "code",
      "execution_count": null,
      "metadata": {
        "id": "O-MMBGCWLwe1"
      },
      "outputs": [],
      "source": [
        "fig, axs = plt.subplots(2, 2)\n",
        "fig.subplots_adjust(left=0.2, wspace=0.6)\n",
        "make_plot(axs, \n",
        "          dan_shuffled_history,\n",
        "          wan_history, \n",
        "          model_1_name='dan',\n",
        "         model_2_name='wan')\n",
        "\n",
        "fig.align_ylabels(axs[:, 1])\n",
        "fig.set_size_inches(18.5, 10.5)\n",
        "plt.show()"
      ]
    },
    {
      "cell_type": "markdown",
      "metadata": {
        "id": "ILMLcnuZOWoT"
      },
      "source": [
        "Next, let us see for the wan_model which words matter most for the classification prediction and which ones did less so. How can we tell? We can look at the attention weights!\n",
        "\n",
        "Let's look at the first training example.  We'll need to convert the input_ids back into the associated strings."
      ]
    },
    {
      "cell_type": "code",
      "execution_count": null,
      "metadata": {
        "id": "53pdy0pwU91Z"
      },
      "outputs": [],
      "source": [
        "train_examples[0].numpy().decode('utf-8')"
      ]
    },
    {
      "cell_type": "markdown",
      "metadata": {
        "id": "B6CFujCuX37x"
      },
      "source": [
        "The corresponding list of input ids that are suitably formatted, i.e. with sequence length 100, are these:"
      ]
    },
    {
      "cell_type": "code",
      "execution_count": null,
      "metadata": {
        "id": "T5U6X-fcVD88"
      },
      "outputs": [],
      "source": [
        "probe_input_ids = train_input_ids[0]\n",
        "probe_input_ids"
      ]
    },
    {
      "cell_type": "markdown",
      "metadata": {
        "id": "jWNRYYmUYw-D"
      },
      "source": [
        "and the first 10 corresponding tokens are: "
      ]
    },
    {
      "cell_type": "code",
      "execution_count": null,
      "metadata": {
        "id": "x1h1vScxYxMw"
      },
      "outputs": [],
      "source": [
        "probe_tokens = [x.decode('utf-8') for x in train_tokens[0].numpy()][:100]\n",
        "probe_tokens[:10]"
      ]
    },
    {
      "cell_type": "markdown",
      "metadata": {
        "id": "y_9R85S7YOXF"
      },
      "source": [
        "Using only the first record in the training set, identify the **5 words** with the highest impact and the **5 words** with the lowest impact on the score, i.e., identify the 5 words with the largest and  smallest weights, respectively. (Note that multiple occurences of the same word count separately for the exercise).\n",
        "\n",
        "HINT: You should create a list of (word/weight) pairs, and then sort by the second argument. Python's '.sort()' function may come in handy.  And make sure you decode the integer ids."
      ]
    },
    {
      "cell_type": "code",
      "execution_count": null,
      "metadata": {
        "id": "0UBhi3G0S0v8"
      },
      "outputs": [],
      "source": [
        "### YOUR CODE HERE\n",
        "\n",
        "# 'pairs' should be the variable that holds the  token/weight pairs.\n",
        " \n",
        "\n",
        "\n",
        "### END YOUR CODE\n",
        "\n",
        "print('most important tokens:')\n",
        "print('\\t', pairs[:10])\n",
        "print('\\nleast important tokens:')\n",
        "print('\\t', pairs[-10:])\n",
        "\n"
      ]
    },
    {
      "cell_type": "markdown",
      "metadata": {
        "id": "UURhPvLWRBNd"
      },
      "source": [
        " **QUESTION:**\n",
        "\n",
        " 2.2.2.b List the 5 most important words, with the most important first. (Again, if a word appears twice, you can include it twice.)\n",
        "\n",
        " 2.2.2.c List the 5 least important words in descending order. (Again, if a word appears twice, note it twice in the answers file.)"
      ]
    },
    {
      "cell_type": "markdown",
      "metadata": {
        "id": "5IYOH-QfSj22"
      },
      "source": [
        "### 2.3 Approaches for Training of Embeddings\n",
        "\n",
        "Rerun the DAN Model in 3 separate configurations:\n",
        "\n",
        "\n",
        "1.   embedding_initializer = 'word2vec' and retrain_embeddings=False\n",
        "2.   embedding_initializer = 'word2vec' and retrain_embeddings=True\n",
        "3.   embedding_initializer = 'uniform' and retrain_embeddings=True\n",
        "\n",
        "\n",
        "**NOTE:** Train the model with static embeddings for 10 epochs and the ones with trainable embeddings for 3 epochs each. \n",
        "\n",
        "What do you observe about the effects of initializing and retraining the embedding matrix?\n",
        "\n"
      ]
    },
    {
      "cell_type": "code",
      "execution_count": null,
      "metadata": {
        "id": "h6Pxm-2xU1aw"
      },
      "outputs": [],
      "source": [
        "### YOUR CODE HERE\n",
        "\n",
        "\n",
        "### END YOUR CODE"
      ]
    },
    {
      "cell_type": "markdown",
      "metadata": {
        "id": "a0jwQ6ailUm4"
      },
      "source": [
        "**QUESTION:**\n",
        "\n",
        "2.3.a First, what is the highest validation accuracy that you just observed for the static model initialized with the word2vec after 10 epochs?  (Copy and paste the decimal value for the highest validation accuracy, e.g. a number like 0.5678 or 0.8765)"
      ]
    },
    {
      "cell_type": "code",
      "execution_count": null,
      "metadata": {
        "id": "qwlDqMTxVwbQ"
      },
      "outputs": [],
      "source": [
        "### YOUR CODE HERE\n",
        "\n",
        "\n",
        "### END YOUR CODE"
      ]
    },
    {
      "cell_type": "markdown",
      "metadata": {
        "id": "sZXr9UY7lfHE"
      },
      "source": [
        "**QUESTION:**\n",
        "\n",
        "\n",
        "2.3.b What is the highest validation accuracy that you observed for the model where you initialized with word2vec vectors but allow them to retrain for 3 epochs? (Copy and paste the decimal value for the highest validation accuracy, e.g. a number like 0.5678 or 0.8765)\n",
        "\n"
      ]
    },
    {
      "cell_type": "code",
      "execution_count": null,
      "metadata": {
        "id": "H0rMPTAOVw70"
      },
      "outputs": [],
      "source": [
        "### YOUR CODE HERE\n",
        "\n",
        "\n",
        "### END YOUR CODE"
      ]
    },
    {
      "cell_type": "markdown",
      "metadata": {
        "id": "hO791d-oYOgg"
      },
      "source": [
        "**QUESTION:**\n",
        "\n",
        "2.3.c What is the highest validation accuracy that you observed for the model where you initialized randomly and then trained?  (Copy and paste the decimal value for the highest validation accuracy, e.g. a number like 0.5678 or 0.8765)\n",
        "\n",
        "\n"
      ]
    },
    {
      "cell_type": "markdown",
      "metadata": {
        "id": "4BGRT1g6a0T6"
      },
      "source": [
        "\n",
        "## 3. BERT-based Classification Models\n",
        "\n",
        "Now we turn to classification with BERT. We will perform classifications with various models that are based on pre-trained BERT models.\n",
        "\n",
        "\n",
        "### 3.1. Basics\n",
        "\n",
        "Let us first explore some basics of BERT. \n",
        "\n",
        "We've already loaded the pretrained BERT model and tokenizer that we'll use (\n",
        "'bert-base-cased').\n",
        "\n",
        "Now, consider this input:"
      ]
    },
    {
      "cell_type": "code",
      "execution_count": null,
      "metadata": {
        "id": "aM3UggLagPn4"
      },
      "outputs": [],
      "source": [
        "test_input = ['this bank is closed on Sunday', 'the steepest bank of the river is dangerous']"
      ]
    },
    {
      "cell_type": "markdown",
      "metadata": {
        "id": "YWaNDy5UbmGU"
      },
      "source": [
        "Now apply the BERT tokenizer to tokenize it:"
      ]
    },
    {
      "cell_type": "code",
      "execution_count": null,
      "metadata": {
        "id": "nmoptRz0bq1o"
      },
      "outputs": [],
      "source": [
        "tokenized_input = bert_tokenizer(test_input, \n",
        "                                 max_length=12,\n",
        "                                 truncation=True,\n",
        "                                 padding='max_length', \n",
        "                                 return_tensors='tf')\n",
        "\n",
        "tokenized_input"
      ]
    },
    {
      "cell_type": "markdown",
      "metadata": {
        "id": "q8WYd810dQwh"
      },
      "source": [
        " **QUESTION:** \n",
        " \n",
        " 3.1.a  Why do the attention_masks have 4 and 1 zeros, respectively?  Choose the correct one and enter it in the answers file.\n",
        "\n",
        "  *  For the first example the last four tokens belong to a different segment. For the second one it is only the last token.\n",
        "\n",
        "  *  For the first example 4 positions are padded while for the second one it is only one.\n",
        "\n",
        "------\n",
        "\n",
        "\n",
        "Next, let us look at the BERT outputs for these 2 sentences:"
      ]
    },
    {
      "cell_type": "code",
      "execution_count": null,
      "metadata": {
        "id": "4hpNQPvBehMc"
      },
      "outputs": [],
      "source": [
        "### YOUR CODE HERE\n",
        "\n",
        "# bert_output = ...\n",
        "\n",
        "\n",
        "### END YOUR CODE"
      ]
    },
    {
      "cell_type": "markdown",
      "metadata": {
        "id": "XVNsqd6QRepy"
      },
      "source": [
        " **QUESTION:** \n",
        " \n",
        " 3.1.b How many outputs are there?\n",
        "\n",
        " Enter your code below."
      ]
    },
    {
      "cell_type": "code",
      "execution_count": null,
      "metadata": {
        "id": "qAfOnO9zov-y"
      },
      "outputs": [],
      "source": [
        "### YOUR CODE HERE\n",
        "\n",
        "#b. -> print it out\n",
        "\n",
        "\n",
        "\n",
        "### END YOUR CODE"
      ]
    },
    {
      "cell_type": "markdown",
      "metadata": {
        "id": "7EYXhams6Bs6"
      },
      "source": [
        "**QUESTION:** \n",
        "\n",
        " 3.1.c Which output do we need to use to get token-level embeddings?\n",
        "\n",
        " * the first\n",
        " \n",
        " * the second \n",
        " \n",
        " Put your answer in the answers file.\n",
        "\n",
        "**QUESTION:** \n",
        "\n",
        " 3.1.d In the tokenized input, which input_id number (i.e. the vocabulary id) corresponds to 'bank' in the two sentences? ('bert_tokenizer.tokenize()' may come in handy.. and don't forget the CLS token! )\n",
        " \n",
        " \n",
        "**QUESTION:** \n",
        "\n",
        " 3.1.e In the array of tokens, which position index number corresponds to 'bank' in the first sentence? ('bert_tokenizer.tokenize()' may come in handy.. and don't forget the CLS token! )"
      ]
    },
    {
      "cell_type": "code",
      "execution_count": null,
      "metadata": {
        "id": "9X-bPMr56Bs6"
      },
      "outputs": [],
      "source": [
        "### YOUR CODE HERE\n",
        "\n",
        "#d/e. -> Look at tokens generated by the bert tokenizer for the first example\n",
        "\n",
        "\n",
        "### END YOUR CODE"
      ]
    },
    {
      "cell_type": "markdown",
      "metadata": {
        "id": "fmC3H1-96Bs6"
      },
      "source": [
        "**QUESTION:** \n",
        "\n",
        "3.1.f Which array position index number corresponds to 'bank' in the second sentence?"
      ]
    },
    {
      "cell_type": "code",
      "execution_count": null,
      "metadata": {
        "id": "OiJrrKo26Bs6"
      },
      "outputs": [],
      "source": [
        "### YOUR CODE HERE\n",
        "\n",
        "#f. -> Look at tokenization for the second example\n",
        "\n",
        "\n",
        "### END YOUR CODE"
      ]
    },
    {
      "cell_type": "markdown",
      "metadata": {
        "id": "Nd-Q-3MA6Bs6"
      },
      "source": [
        "**QUESTION:**\n",
        "\n",
        " 3.1.g What is the cosine similarity between the BERT embeddings for the two occurences of 'bank' in the two sentences?"
      ]
    },
    {
      "cell_type": "code",
      "execution_count": null,
      "metadata": {
        "id": "xVIt83S26Bs6"
      },
      "outputs": [],
      "source": [
        "### YOUR CODE HERE\n",
        "\n",
        "#g.  -> get the vectors and calculate cosine similarity between the two 'bank' BERT embedddings\n",
        "\n",
        "\n",
        "\n",
        "\n",
        "### END YOUR CODE"
      ]
    },
    {
      "cell_type": "markdown",
      "metadata": {
        "id": "7a2zCWHP6Bs6"
      },
      "source": [
        "**QUESTION:**\n",
        "\n",
        "3.1.h How does this relate to the cosine similarity of 'this' (in sentence 1) and the first 'the' (in sentence 2). Compute their cosine similarity.\n"
      ]
    },
    {
      "cell_type": "code",
      "execution_count": null,
      "metadata": {
        "id": "TnEWs6St6Bs6"
      },
      "outputs": [],
      "source": [
        "### YOUR CODE HERE\n",
        "\n",
        "#h.  -> get the vectors and calculate cosine similarity\n",
        "\n",
        "\n",
        "### END YOUR CODE"
      ]
    },
    {
      "cell_type": "markdown",
      "metadata": {
        "id": "KBOvsTBwm_Vi"
      },
      "source": [
        "### 3.2 CLS-Token-based Classification \n",
        "\n",
        "In the live session we discussed classification with BERT using the pooled token. We now will do the same but extract the [CLS] token output for each example and use that for classification purposes.\n",
        "\n",
        "Consult the model from the live session and change accordingly. Make sure the BERT model is fully trainable.\n",
        "\n",
        "**HINT:**\n",
        "You will want to extract the output of the [CLS] token from the BERT output similarly to what we did above to get the output for 'bank', etc.\n"
      ]
    },
    {
      "cell_type": "code",
      "execution_count": null,
      "metadata": {
        "id": "V1OAGPTNgPr6"
      },
      "outputs": [],
      "source": [
        "def create_bert_cls_model(max_sequence_length=MAX_SEQUENCE_LENGTH,\n",
        "                          hidden_size = 100, \n",
        "                          dropout=0.3,\n",
        "                          learning_rate=0.00005):\n",
        "    \"\"\"\n",
        "    Build a simple classification model with BERT. Use the CLS Token output for classification purposes.\n",
        "    \"\"\"\n",
        "\n",
        "    ### YOUR CODE HERE\n",
        "    \n",
        "    \n",
        "\n",
        "\n",
        "\n",
        "\n",
        "\n",
        "\n",
        "\n",
        "\n",
        "    \n",
        "\n",
        "    ### END YOUR CODE\n",
        "    \n",
        "    return classification_model"
      ]
    },
    {
      "cell_type": "markdown",
      "metadata": {
        "id": "KcK2PyPNoNc2"
      },
      "source": [
        "Now create the model and train for 2 epochs. Use batch size 8 and the appropriate validation/test set. (We don't make a distinction here between validation and test although we might in other contexts.)\n"
      ]
    },
    {
      "cell_type": "code",
      "execution_count": null,
      "metadata": {
        "id": "hIXDr8OdiSyv"
      },
      "outputs": [],
      "source": [
        "### YOUR CODE HERE\n",
        "\n",
        "\n",
        "\n",
        "### END YOUR CODE"
      ]
    },
    {
      "cell_type": "markdown",
      "metadata": {
        "id": "LLjgxylMnC0x"
      },
      "source": [
        " **QUESTION:** \n",
        " \n",
        " 3.2.a What is the highest validation accuracy that you observed for the [CLS]-classification model after training for 2 epochs? (Copy and paste the decimal value for the highest validation accuracy, e.g. a number like 0.5678 or 0.8765)\n",
        "\n",
        "\n",
        " "
      ]
    },
    {
      "cell_type": "markdown",
      "metadata": {
        "id": "3cMVEBuxro4j"
      },
      "source": [
        "### 3.3 Classification by Averaging the BERT outputs\n",
        "\n",
        "Instead of using only the output vector for the [CLS] token, we will now average the output vectors from BERT for all of the tokens in the full sequence.\n",
        "\n",
        "**HINT:**\n",
        "You will want to get the full sequence of token output vectors from the BERT model and then apply an average across the tokens. You may want to use:\n",
        "\n",
        "```\n",
        "tf.math.reduce_mean()\n",
        "```\n",
        "but you can also do it in other ways.\n",
        "\n"
      ]
    },
    {
      "cell_type": "code",
      "execution_count": null,
      "metadata": {
        "id": "sB2WKwLTk4LY"
      },
      "outputs": [],
      "source": [
        "def create_bert_avg_model(max_sequence_length=MAX_SEQUENCE_LENGTH,\n",
        "                          hidden_size = 100, \n",
        "                          dropout=0.3,\n",
        "                          learning_rate=0.00005):\n",
        "    \"\"\"\n",
        "    Build a simple classification model with BERT. Use the average of the BERT output tokens\n",
        "    \"\"\"\n",
        "\n",
        "    ### YOUR CODE HERE\n",
        "    \n",
        "\n",
        "\n",
        "\n",
        "\n",
        " \n",
        "\n",
        "\n",
        "\n",
        "    \n",
        "    \n",
        "    ### END YOUR CODE\n",
        "\n",
        "    return classification_model"
      ]
    },
    {
      "cell_type": "markdown",
      "metadata": {
        "id": "xcLrgI49tBde"
      },
      "source": [
        "Now create the model and train for 2 epochs. Use batch size 8 and the appropriate validation/test set. (We again don't make a distinction here.)  Remember that all layers of the BERT model should be trainable."
      ]
    },
    {
      "cell_type": "code",
      "execution_count": null,
      "metadata": {
        "id": "AtS29uRbk4Os"
      },
      "outputs": [],
      "source": [
        "### YOUR CODE HERE\n",
        "\n",
        "\n",
        "\n",
        "### END YOUR CODE"
      ]
    },
    {
      "cell_type": "markdown",
      "metadata": {
        "id": "NiWb3y9anNlG"
      },
      "source": [
        " **QUESTION:** \n",
        " \n",
        " 3.3.a What is the highest validation accuracy that you observed for the BERT-averaging-classification model after training for 2 epochs? (Copy and paste the decimal value for the highest validation accuracy, e.g. a number like 0.5678 or 0.8765)\n",
        "\n",
        "\n",
        " "
      ]
    },
    {
      "cell_type": "markdown",
      "metadata": {
        "id": "jpVZXfOAt0UC"
      },
      "source": [
        "### 3.4 Adding a CNN on top of BERT\n",
        "\n",
        "Can we also combine advanced architectures? Absolutely! In the end we are dealing with tensors and it does not matter whether they are coming from static word2vec embeddings or context-based BERT embeddings. (Whether we want to is another question, but let's try it here.)\n",
        "\n",
        "\n",
        "**HINT:**\n",
        "You should appropriately stitch together the BERT-based components and the CNN components from the lesson notebook. Remember that BERT provides a sequence of contextualized token embeddings as its main output, and a CNN takes a sequence of vectors as input.\n",
        "\n",
        "Use the provided hyperparameters for CNN filter sizes and numbers of filters. Keep the same hyperparameters for the rest of the model, including a dropout layer and dense layer after the CNN, with the provided dropout rate and hidden_size. Again make sure the BERT model is trainable."
      ]
    },
    {
      "cell_type": "code",
      "execution_count": null,
      "metadata": {
        "id": "6IJoPmcHk4UO"
      },
      "outputs": [],
      "source": [
        "def create_bert_cnn_model(max_sequence_length=MAX_SEQUENCE_LENGTH,\n",
        "                          num_filters = [100, 100, 50, 25],\n",
        "                          kernel_sizes = [2, 3, 4, 5],\n",
        "                          dropout = 0.3,\n",
        "                          hidden_size = 100, \n",
        "                          learning_rate=0.00005):\n",
        "    \"\"\"\n",
        "    Build a  classification model with BERT, where you apply CNN layers  to the BERT output\n",
        "    \"\"\"\n",
        "\n",
        "    ### YOUR CODE HERE\n",
        "    \n",
        "    \n",
        "\n",
        "\n",
        "\n",
        "\n",
        "\n",
        "\n",
        "\n",
        "\n",
        "\n",
        "\n",
        "    \n",
        "\n",
        "    ### END YOUR CODE\n",
        "    \n",
        "    return classification_model"
      ]
    },
    {
      "cell_type": "markdown",
      "metadata": {
        "id": "1KVHhxxIhkqS"
      },
      "source": [
        "Train this model for 2 epochs as well with mini-batch size of 8:"
      ]
    },
    {
      "cell_type": "code",
      "execution_count": null,
      "metadata": {
        "id": "gobUGAVFk4XG"
      },
      "outputs": [],
      "source": [
        "### YOUR CODE HERE\n",
        "\n",
        "\n",
        "### END YOUR CODE"
      ]
    },
    {
      "cell_type": "markdown",
      "metadata": {
        "id": "19zjdjc0nTn8"
      },
      "source": [
        " **QUESTION:** \n",
        " \n",
        "3.4.a What is the highest validation accuracy that you observed for the BERT-CNN-classification model after 2 epochs?  (Copy and paste the decimal value for the highest validation accuracy, e.g. a number like 0.5678 or 0.8765)\n"
      ]
    },
    {
      "cell_type": "markdown",
      "metadata": {
        "id": "_Y3e9X8bvhZf"
      },
      "source": [
        "# That's It! \n",
        "## Congratulations... You are done! \n",
        "## We hope you learned a ton!"
      ]
    },
    {
      "cell_type": "code",
      "execution_count": null,
      "metadata": {
        "id": "OxoSk-w16Bs8"
      },
      "outputs": [],
      "source": []
    }
  ],
  "metadata": {
    "accelerator": "GPU",
    "colab": {
      "provenance": []
    },
    "gpuClass": "standard",
    "kernelspec": {
      "display_name": "Python 3",
      "language": "python",
      "name": "python3"
    },
    "language_info": {
      "codemirror_mode": {
        "name": "ipython",
        "version": 3
      },
      "file_extension": ".py",
      "mimetype": "text/x-python",
      "name": "python",
      "nbconvert_exporter": "python",
      "pygments_lexer": "ipython3",
      "version": "3.8.5"
    },
    "widgets": {
      "application/vnd.jupyter.widget-state+json": {
        "eea21dae36fb4022be03d9b0484ec52e": {
          "model_module": "@jupyter-widgets/controls",
          "model_name": "HBoxModel",
          "model_module_version": "1.5.0",
          "state": {
            "_dom_classes": [],
            "_model_module": "@jupyter-widgets/controls",
            "_model_module_version": "1.5.0",
            "_model_name": "HBoxModel",
            "_view_count": null,
            "_view_module": "@jupyter-widgets/controls",
            "_view_module_version": "1.5.0",
            "_view_name": "HBoxView",
            "box_style": "",
            "children": [
              "IPY_MODEL_96bd04723b4641fd9cfcddbdb647bb56",
              "IPY_MODEL_37a5bf0322944edba51c634eed24768d",
              "IPY_MODEL_b401de1e526048eb8729a8a6077c796b"
            ],
            "layout": "IPY_MODEL_7f6c63477c924d4abc7a4cfc9fd33212"
          }
        },
        "96bd04723b4641fd9cfcddbdb647bb56": {
          "model_module": "@jupyter-widgets/controls",
          "model_name": "HTMLModel",
          "model_module_version": "1.5.0",
          "state": {
            "_dom_classes": [],
            "_model_module": "@jupyter-widgets/controls",
            "_model_module_version": "1.5.0",
            "_model_name": "HTMLModel",
            "_view_count": null,
            "_view_module": "@jupyter-widgets/controls",
            "_view_module_version": "1.5.0",
            "_view_name": "HTMLView",
            "description": "",
            "description_tooltip": null,
            "layout": "IPY_MODEL_994e222a55bc4f6b904576bb05e5c4f5",
            "placeholder": "​",
            "style": "IPY_MODEL_383328f122ab4c678b0c0a95548673dc",
            "value": "Downloading (…)solve/main/vocab.txt: 100%"
          }
        },
        "37a5bf0322944edba51c634eed24768d": {
          "model_module": "@jupyter-widgets/controls",
          "model_name": "FloatProgressModel",
          "model_module_version": "1.5.0",
          "state": {
            "_dom_classes": [],
            "_model_module": "@jupyter-widgets/controls",
            "_model_module_version": "1.5.0",
            "_model_name": "FloatProgressModel",
            "_view_count": null,
            "_view_module": "@jupyter-widgets/controls",
            "_view_module_version": "1.5.0",
            "_view_name": "ProgressView",
            "bar_style": "success",
            "description": "",
            "description_tooltip": null,
            "layout": "IPY_MODEL_d5c70626bd4c40e59df718f54e10461a",
            "max": 213450,
            "min": 0,
            "orientation": "horizontal",
            "style": "IPY_MODEL_d0f949cf2d774028be8e81f1cf502856",
            "value": 213450
          }
        },
        "b401de1e526048eb8729a8a6077c796b": {
          "model_module": "@jupyter-widgets/controls",
          "model_name": "HTMLModel",
          "model_module_version": "1.5.0",
          "state": {
            "_dom_classes": [],
            "_model_module": "@jupyter-widgets/controls",
            "_model_module_version": "1.5.0",
            "_model_name": "HTMLModel",
            "_view_count": null,
            "_view_module": "@jupyter-widgets/controls",
            "_view_module_version": "1.5.0",
            "_view_name": "HTMLView",
            "description": "",
            "description_tooltip": null,
            "layout": "IPY_MODEL_16254051649c484199be7c888bcec700",
            "placeholder": "​",
            "style": "IPY_MODEL_902a8dbd8e324f768b198ca6927e6582",
            "value": " 213k/213k [00:00&lt;00:00, 4.89MB/s]"
          }
        },
        "7f6c63477c924d4abc7a4cfc9fd33212": {
          "model_module": "@jupyter-widgets/base",
          "model_name": "LayoutModel",
          "model_module_version": "1.2.0",
          "state": {
            "_model_module": "@jupyter-widgets/base",
            "_model_module_version": "1.2.0",
            "_model_name": "LayoutModel",
            "_view_count": null,
            "_view_module": "@jupyter-widgets/base",
            "_view_module_version": "1.2.0",
            "_view_name": "LayoutView",
            "align_content": null,
            "align_items": null,
            "align_self": null,
            "border": null,
            "bottom": null,
            "display": null,
            "flex": null,
            "flex_flow": null,
            "grid_area": null,
            "grid_auto_columns": null,
            "grid_auto_flow": null,
            "grid_auto_rows": null,
            "grid_column": null,
            "grid_gap": null,
            "grid_row": null,
            "grid_template_areas": null,
            "grid_template_columns": null,
            "grid_template_rows": null,
            "height": null,
            "justify_content": null,
            "justify_items": null,
            "left": null,
            "margin": null,
            "max_height": null,
            "max_width": null,
            "min_height": null,
            "min_width": null,
            "object_fit": null,
            "object_position": null,
            "order": null,
            "overflow": null,
            "overflow_x": null,
            "overflow_y": null,
            "padding": null,
            "right": null,
            "top": null,
            "visibility": null,
            "width": null
          }
        },
        "994e222a55bc4f6b904576bb05e5c4f5": {
          "model_module": "@jupyter-widgets/base",
          "model_name": "LayoutModel",
          "model_module_version": "1.2.0",
          "state": {
            "_model_module": "@jupyter-widgets/base",
            "_model_module_version": "1.2.0",
            "_model_name": "LayoutModel",
            "_view_count": null,
            "_view_module": "@jupyter-widgets/base",
            "_view_module_version": "1.2.0",
            "_view_name": "LayoutView",
            "align_content": null,
            "align_items": null,
            "align_self": null,
            "border": null,
            "bottom": null,
            "display": null,
            "flex": null,
            "flex_flow": null,
            "grid_area": null,
            "grid_auto_columns": null,
            "grid_auto_flow": null,
            "grid_auto_rows": null,
            "grid_column": null,
            "grid_gap": null,
            "grid_row": null,
            "grid_template_areas": null,
            "grid_template_columns": null,
            "grid_template_rows": null,
            "height": null,
            "justify_content": null,
            "justify_items": null,
            "left": null,
            "margin": null,
            "max_height": null,
            "max_width": null,
            "min_height": null,
            "min_width": null,
            "object_fit": null,
            "object_position": null,
            "order": null,
            "overflow": null,
            "overflow_x": null,
            "overflow_y": null,
            "padding": null,
            "right": null,
            "top": null,
            "visibility": null,
            "width": null
          }
        },
        "383328f122ab4c678b0c0a95548673dc": {
          "model_module": "@jupyter-widgets/controls",
          "model_name": "DescriptionStyleModel",
          "model_module_version": "1.5.0",
          "state": {
            "_model_module": "@jupyter-widgets/controls",
            "_model_module_version": "1.5.0",
            "_model_name": "DescriptionStyleModel",
            "_view_count": null,
            "_view_module": "@jupyter-widgets/base",
            "_view_module_version": "1.2.0",
            "_view_name": "StyleView",
            "description_width": ""
          }
        },
        "d5c70626bd4c40e59df718f54e10461a": {
          "model_module": "@jupyter-widgets/base",
          "model_name": "LayoutModel",
          "model_module_version": "1.2.0",
          "state": {
            "_model_module": "@jupyter-widgets/base",
            "_model_module_version": "1.2.0",
            "_model_name": "LayoutModel",
            "_view_count": null,
            "_view_module": "@jupyter-widgets/base",
            "_view_module_version": "1.2.0",
            "_view_name": "LayoutView",
            "align_content": null,
            "align_items": null,
            "align_self": null,
            "border": null,
            "bottom": null,
            "display": null,
            "flex": null,
            "flex_flow": null,
            "grid_area": null,
            "grid_auto_columns": null,
            "grid_auto_flow": null,
            "grid_auto_rows": null,
            "grid_column": null,
            "grid_gap": null,
            "grid_row": null,
            "grid_template_areas": null,
            "grid_template_columns": null,
            "grid_template_rows": null,
            "height": null,
            "justify_content": null,
            "justify_items": null,
            "left": null,
            "margin": null,
            "max_height": null,
            "max_width": null,
            "min_height": null,
            "min_width": null,
            "object_fit": null,
            "object_position": null,
            "order": null,
            "overflow": null,
            "overflow_x": null,
            "overflow_y": null,
            "padding": null,
            "right": null,
            "top": null,
            "visibility": null,
            "width": null
          }
        },
        "d0f949cf2d774028be8e81f1cf502856": {
          "model_module": "@jupyter-widgets/controls",
          "model_name": "ProgressStyleModel",
          "model_module_version": "1.5.0",
          "state": {
            "_model_module": "@jupyter-widgets/controls",
            "_model_module_version": "1.5.0",
            "_model_name": "ProgressStyleModel",
            "_view_count": null,
            "_view_module": "@jupyter-widgets/base",
            "_view_module_version": "1.2.0",
            "_view_name": "StyleView",
            "bar_color": null,
            "description_width": ""
          }
        },
        "16254051649c484199be7c888bcec700": {
          "model_module": "@jupyter-widgets/base",
          "model_name": "LayoutModel",
          "model_module_version": "1.2.0",
          "state": {
            "_model_module": "@jupyter-widgets/base",
            "_model_module_version": "1.2.0",
            "_model_name": "LayoutModel",
            "_view_count": null,
            "_view_module": "@jupyter-widgets/base",
            "_view_module_version": "1.2.0",
            "_view_name": "LayoutView",
            "align_content": null,
            "align_items": null,
            "align_self": null,
            "border": null,
            "bottom": null,
            "display": null,
            "flex": null,
            "flex_flow": null,
            "grid_area": null,
            "grid_auto_columns": null,
            "grid_auto_flow": null,
            "grid_auto_rows": null,
            "grid_column": null,
            "grid_gap": null,
            "grid_row": null,
            "grid_template_areas": null,
            "grid_template_columns": null,
            "grid_template_rows": null,
            "height": null,
            "justify_content": null,
            "justify_items": null,
            "left": null,
            "margin": null,
            "max_height": null,
            "max_width": null,
            "min_height": null,
            "min_width": null,
            "object_fit": null,
            "object_position": null,
            "order": null,
            "overflow": null,
            "overflow_x": null,
            "overflow_y": null,
            "padding": null,
            "right": null,
            "top": null,
            "visibility": null,
            "width": null
          }
        },
        "902a8dbd8e324f768b198ca6927e6582": {
          "model_module": "@jupyter-widgets/controls",
          "model_name": "DescriptionStyleModel",
          "model_module_version": "1.5.0",
          "state": {
            "_model_module": "@jupyter-widgets/controls",
            "_model_module_version": "1.5.0",
            "_model_name": "DescriptionStyleModel",
            "_view_count": null,
            "_view_module": "@jupyter-widgets/base",
            "_view_module_version": "1.2.0",
            "_view_name": "StyleView",
            "description_width": ""
          }
        },
        "4f92bf0cb8e543acaeb348bd080c0ff2": {
          "model_module": "@jupyter-widgets/controls",
          "model_name": "HBoxModel",
          "model_module_version": "1.5.0",
          "state": {
            "_dom_classes": [],
            "_model_module": "@jupyter-widgets/controls",
            "_model_module_version": "1.5.0",
            "_model_name": "HBoxModel",
            "_view_count": null,
            "_view_module": "@jupyter-widgets/controls",
            "_view_module_version": "1.5.0",
            "_view_name": "HBoxView",
            "box_style": "",
            "children": [
              "IPY_MODEL_cbc0f7e09ae34eedb9ca2de8833bc605",
              "IPY_MODEL_e48faf6430cb48be9a2265e23d036a8d",
              "IPY_MODEL_c24ca44ddcd244f987fbc2401742c7ca"
            ],
            "layout": "IPY_MODEL_38c5aa7fe4464f788d2f29926ad7e0bb"
          }
        },
        "cbc0f7e09ae34eedb9ca2de8833bc605": {
          "model_module": "@jupyter-widgets/controls",
          "model_name": "HTMLModel",
          "model_module_version": "1.5.0",
          "state": {
            "_dom_classes": [],
            "_model_module": "@jupyter-widgets/controls",
            "_model_module_version": "1.5.0",
            "_model_name": "HTMLModel",
            "_view_count": null,
            "_view_module": "@jupyter-widgets/controls",
            "_view_module_version": "1.5.0",
            "_view_name": "HTMLView",
            "description": "",
            "description_tooltip": null,
            "layout": "IPY_MODEL_6ffd8342a2124f6fb260a27db0358fc7",
            "placeholder": "​",
            "style": "IPY_MODEL_93f2c01cb9cc4a8e9b88f2ace9bc54ca",
            "value": "Downloading (…)okenizer_config.json: 100%"
          }
        },
        "e48faf6430cb48be9a2265e23d036a8d": {
          "model_module": "@jupyter-widgets/controls",
          "model_name": "FloatProgressModel",
          "model_module_version": "1.5.0",
          "state": {
            "_dom_classes": [],
            "_model_module": "@jupyter-widgets/controls",
            "_model_module_version": "1.5.0",
            "_model_name": "FloatProgressModel",
            "_view_count": null,
            "_view_module": "@jupyter-widgets/controls",
            "_view_module_version": "1.5.0",
            "_view_name": "ProgressView",
            "bar_style": "success",
            "description": "",
            "description_tooltip": null,
            "layout": "IPY_MODEL_b767b9294ec94ca68b4ef849790f2a7c",
            "max": 29,
            "min": 0,
            "orientation": "horizontal",
            "style": "IPY_MODEL_f1c1525f70fb4bc2a3d524cf4d6f1030",
            "value": 29
          }
        },
        "c24ca44ddcd244f987fbc2401742c7ca": {
          "model_module": "@jupyter-widgets/controls",
          "model_name": "HTMLModel",
          "model_module_version": "1.5.0",
          "state": {
            "_dom_classes": [],
            "_model_module": "@jupyter-widgets/controls",
            "_model_module_version": "1.5.0",
            "_model_name": "HTMLModel",
            "_view_count": null,
            "_view_module": "@jupyter-widgets/controls",
            "_view_module_version": "1.5.0",
            "_view_name": "HTMLView",
            "description": "",
            "description_tooltip": null,
            "layout": "IPY_MODEL_ecef82af0d48449d904ea510b4c529a4",
            "placeholder": "​",
            "style": "IPY_MODEL_8d6195e5a9cc46c4a5d440605d1ad019",
            "value": " 29.0/29.0 [00:00&lt;00:00, 1.59kB/s]"
          }
        },
        "38c5aa7fe4464f788d2f29926ad7e0bb": {
          "model_module": "@jupyter-widgets/base",
          "model_name": "LayoutModel",
          "model_module_version": "1.2.0",
          "state": {
            "_model_module": "@jupyter-widgets/base",
            "_model_module_version": "1.2.0",
            "_model_name": "LayoutModel",
            "_view_count": null,
            "_view_module": "@jupyter-widgets/base",
            "_view_module_version": "1.2.0",
            "_view_name": "LayoutView",
            "align_content": null,
            "align_items": null,
            "align_self": null,
            "border": null,
            "bottom": null,
            "display": null,
            "flex": null,
            "flex_flow": null,
            "grid_area": null,
            "grid_auto_columns": null,
            "grid_auto_flow": null,
            "grid_auto_rows": null,
            "grid_column": null,
            "grid_gap": null,
            "grid_row": null,
            "grid_template_areas": null,
            "grid_template_columns": null,
            "grid_template_rows": null,
            "height": null,
            "justify_content": null,
            "justify_items": null,
            "left": null,
            "margin": null,
            "max_height": null,
            "max_width": null,
            "min_height": null,
            "min_width": null,
            "object_fit": null,
            "object_position": null,
            "order": null,
            "overflow": null,
            "overflow_x": null,
            "overflow_y": null,
            "padding": null,
            "right": null,
            "top": null,
            "visibility": null,
            "width": null
          }
        },
        "6ffd8342a2124f6fb260a27db0358fc7": {
          "model_module": "@jupyter-widgets/base",
          "model_name": "LayoutModel",
          "model_module_version": "1.2.0",
          "state": {
            "_model_module": "@jupyter-widgets/base",
            "_model_module_version": "1.2.0",
            "_model_name": "LayoutModel",
            "_view_count": null,
            "_view_module": "@jupyter-widgets/base",
            "_view_module_version": "1.2.0",
            "_view_name": "LayoutView",
            "align_content": null,
            "align_items": null,
            "align_self": null,
            "border": null,
            "bottom": null,
            "display": null,
            "flex": null,
            "flex_flow": null,
            "grid_area": null,
            "grid_auto_columns": null,
            "grid_auto_flow": null,
            "grid_auto_rows": null,
            "grid_column": null,
            "grid_gap": null,
            "grid_row": null,
            "grid_template_areas": null,
            "grid_template_columns": null,
            "grid_template_rows": null,
            "height": null,
            "justify_content": null,
            "justify_items": null,
            "left": null,
            "margin": null,
            "max_height": null,
            "max_width": null,
            "min_height": null,
            "min_width": null,
            "object_fit": null,
            "object_position": null,
            "order": null,
            "overflow": null,
            "overflow_x": null,
            "overflow_y": null,
            "padding": null,
            "right": null,
            "top": null,
            "visibility": null,
            "width": null
          }
        },
        "93f2c01cb9cc4a8e9b88f2ace9bc54ca": {
          "model_module": "@jupyter-widgets/controls",
          "model_name": "DescriptionStyleModel",
          "model_module_version": "1.5.0",
          "state": {
            "_model_module": "@jupyter-widgets/controls",
            "_model_module_version": "1.5.0",
            "_model_name": "DescriptionStyleModel",
            "_view_count": null,
            "_view_module": "@jupyter-widgets/base",
            "_view_module_version": "1.2.0",
            "_view_name": "StyleView",
            "description_width": ""
          }
        },
        "b767b9294ec94ca68b4ef849790f2a7c": {
          "model_module": "@jupyter-widgets/base",
          "model_name": "LayoutModel",
          "model_module_version": "1.2.0",
          "state": {
            "_model_module": "@jupyter-widgets/base",
            "_model_module_version": "1.2.0",
            "_model_name": "LayoutModel",
            "_view_count": null,
            "_view_module": "@jupyter-widgets/base",
            "_view_module_version": "1.2.0",
            "_view_name": "LayoutView",
            "align_content": null,
            "align_items": null,
            "align_self": null,
            "border": null,
            "bottom": null,
            "display": null,
            "flex": null,
            "flex_flow": null,
            "grid_area": null,
            "grid_auto_columns": null,
            "grid_auto_flow": null,
            "grid_auto_rows": null,
            "grid_column": null,
            "grid_gap": null,
            "grid_row": null,
            "grid_template_areas": null,
            "grid_template_columns": null,
            "grid_template_rows": null,
            "height": null,
            "justify_content": null,
            "justify_items": null,
            "left": null,
            "margin": null,
            "max_height": null,
            "max_width": null,
            "min_height": null,
            "min_width": null,
            "object_fit": null,
            "object_position": null,
            "order": null,
            "overflow": null,
            "overflow_x": null,
            "overflow_y": null,
            "padding": null,
            "right": null,
            "top": null,
            "visibility": null,
            "width": null
          }
        },
        "f1c1525f70fb4bc2a3d524cf4d6f1030": {
          "model_module": "@jupyter-widgets/controls",
          "model_name": "ProgressStyleModel",
          "model_module_version": "1.5.0",
          "state": {
            "_model_module": "@jupyter-widgets/controls",
            "_model_module_version": "1.5.0",
            "_model_name": "ProgressStyleModel",
            "_view_count": null,
            "_view_module": "@jupyter-widgets/base",
            "_view_module_version": "1.2.0",
            "_view_name": "StyleView",
            "bar_color": null,
            "description_width": ""
          }
        },
        "ecef82af0d48449d904ea510b4c529a4": {
          "model_module": "@jupyter-widgets/base",
          "model_name": "LayoutModel",
          "model_module_version": "1.2.0",
          "state": {
            "_model_module": "@jupyter-widgets/base",
            "_model_module_version": "1.2.0",
            "_model_name": "LayoutModel",
            "_view_count": null,
            "_view_module": "@jupyter-widgets/base",
            "_view_module_version": "1.2.0",
            "_view_name": "LayoutView",
            "align_content": null,
            "align_items": null,
            "align_self": null,
            "border": null,
            "bottom": null,
            "display": null,
            "flex": null,
            "flex_flow": null,
            "grid_area": null,
            "grid_auto_columns": null,
            "grid_auto_flow": null,
            "grid_auto_rows": null,
            "grid_column": null,
            "grid_gap": null,
            "grid_row": null,
            "grid_template_areas": null,
            "grid_template_columns": null,
            "grid_template_rows": null,
            "height": null,
            "justify_content": null,
            "justify_items": null,
            "left": null,
            "margin": null,
            "max_height": null,
            "max_width": null,
            "min_height": null,
            "min_width": null,
            "object_fit": null,
            "object_position": null,
            "order": null,
            "overflow": null,
            "overflow_x": null,
            "overflow_y": null,
            "padding": null,
            "right": null,
            "top": null,
            "visibility": null,
            "width": null
          }
        },
        "8d6195e5a9cc46c4a5d440605d1ad019": {
          "model_module": "@jupyter-widgets/controls",
          "model_name": "DescriptionStyleModel",
          "model_module_version": "1.5.0",
          "state": {
            "_model_module": "@jupyter-widgets/controls",
            "_model_module_version": "1.5.0",
            "_model_name": "DescriptionStyleModel",
            "_view_count": null,
            "_view_module": "@jupyter-widgets/base",
            "_view_module_version": "1.2.0",
            "_view_name": "StyleView",
            "description_width": ""
          }
        },
        "1c8f8277737e4de5a5dd6c00ec8181d7": {
          "model_module": "@jupyter-widgets/controls",
          "model_name": "HBoxModel",
          "model_module_version": "1.5.0",
          "state": {
            "_dom_classes": [],
            "_model_module": "@jupyter-widgets/controls",
            "_model_module_version": "1.5.0",
            "_model_name": "HBoxModel",
            "_view_count": null,
            "_view_module": "@jupyter-widgets/controls",
            "_view_module_version": "1.5.0",
            "_view_name": "HBoxView",
            "box_style": "",
            "children": [
              "IPY_MODEL_19c10e294b29495b8742fc19c8f8a48a",
              "IPY_MODEL_84e5791f95924916b590f470ad710a7e",
              "IPY_MODEL_3d827400f8274ecab6b0341915ff3560"
            ],
            "layout": "IPY_MODEL_22e27420b7c441e6813560a00122e062"
          }
        },
        "19c10e294b29495b8742fc19c8f8a48a": {
          "model_module": "@jupyter-widgets/controls",
          "model_name": "HTMLModel",
          "model_module_version": "1.5.0",
          "state": {
            "_dom_classes": [],
            "_model_module": "@jupyter-widgets/controls",
            "_model_module_version": "1.5.0",
            "_model_name": "HTMLModel",
            "_view_count": null,
            "_view_module": "@jupyter-widgets/controls",
            "_view_module_version": "1.5.0",
            "_view_name": "HTMLView",
            "description": "",
            "description_tooltip": null,
            "layout": "IPY_MODEL_cd36060d5b06485ab952a7bbe943dd29",
            "placeholder": "​",
            "style": "IPY_MODEL_e11f1cb91c134a6bb4bdd1cb27b17924",
            "value": "Downloading (…)lve/main/config.json: 100%"
          }
        },
        "84e5791f95924916b590f470ad710a7e": {
          "model_module": "@jupyter-widgets/controls",
          "model_name": "FloatProgressModel",
          "model_module_version": "1.5.0",
          "state": {
            "_dom_classes": [],
            "_model_module": "@jupyter-widgets/controls",
            "_model_module_version": "1.5.0",
            "_model_name": "FloatProgressModel",
            "_view_count": null,
            "_view_module": "@jupyter-widgets/controls",
            "_view_module_version": "1.5.0",
            "_view_name": "ProgressView",
            "bar_style": "success",
            "description": "",
            "description_tooltip": null,
            "layout": "IPY_MODEL_ab5c235b06ba4adcb104054c63588882",
            "max": 570,
            "min": 0,
            "orientation": "horizontal",
            "style": "IPY_MODEL_3a06314748d74a8f9ed564443ce663d6",
            "value": 570
          }
        },
        "3d827400f8274ecab6b0341915ff3560": {
          "model_module": "@jupyter-widgets/controls",
          "model_name": "HTMLModel",
          "model_module_version": "1.5.0",
          "state": {
            "_dom_classes": [],
            "_model_module": "@jupyter-widgets/controls",
            "_model_module_version": "1.5.0",
            "_model_name": "HTMLModel",
            "_view_count": null,
            "_view_module": "@jupyter-widgets/controls",
            "_view_module_version": "1.5.0",
            "_view_name": "HTMLView",
            "description": "",
            "description_tooltip": null,
            "layout": "IPY_MODEL_c7590a94fec9462082d196adf1d82ccc",
            "placeholder": "​",
            "style": "IPY_MODEL_1439b0317e374a288803c1a1aa9c7dfb",
            "value": " 570/570 [00:00&lt;00:00, 28.2kB/s]"
          }
        },
        "22e27420b7c441e6813560a00122e062": {
          "model_module": "@jupyter-widgets/base",
          "model_name": "LayoutModel",
          "model_module_version": "1.2.0",
          "state": {
            "_model_module": "@jupyter-widgets/base",
            "_model_module_version": "1.2.0",
            "_model_name": "LayoutModel",
            "_view_count": null,
            "_view_module": "@jupyter-widgets/base",
            "_view_module_version": "1.2.0",
            "_view_name": "LayoutView",
            "align_content": null,
            "align_items": null,
            "align_self": null,
            "border": null,
            "bottom": null,
            "display": null,
            "flex": null,
            "flex_flow": null,
            "grid_area": null,
            "grid_auto_columns": null,
            "grid_auto_flow": null,
            "grid_auto_rows": null,
            "grid_column": null,
            "grid_gap": null,
            "grid_row": null,
            "grid_template_areas": null,
            "grid_template_columns": null,
            "grid_template_rows": null,
            "height": null,
            "justify_content": null,
            "justify_items": null,
            "left": null,
            "margin": null,
            "max_height": null,
            "max_width": null,
            "min_height": null,
            "min_width": null,
            "object_fit": null,
            "object_position": null,
            "order": null,
            "overflow": null,
            "overflow_x": null,
            "overflow_y": null,
            "padding": null,
            "right": null,
            "top": null,
            "visibility": null,
            "width": null
          }
        },
        "cd36060d5b06485ab952a7bbe943dd29": {
          "model_module": "@jupyter-widgets/base",
          "model_name": "LayoutModel",
          "model_module_version": "1.2.0",
          "state": {
            "_model_module": "@jupyter-widgets/base",
            "_model_module_version": "1.2.0",
            "_model_name": "LayoutModel",
            "_view_count": null,
            "_view_module": "@jupyter-widgets/base",
            "_view_module_version": "1.2.0",
            "_view_name": "LayoutView",
            "align_content": null,
            "align_items": null,
            "align_self": null,
            "border": null,
            "bottom": null,
            "display": null,
            "flex": null,
            "flex_flow": null,
            "grid_area": null,
            "grid_auto_columns": null,
            "grid_auto_flow": null,
            "grid_auto_rows": null,
            "grid_column": null,
            "grid_gap": null,
            "grid_row": null,
            "grid_template_areas": null,
            "grid_template_columns": null,
            "grid_template_rows": null,
            "height": null,
            "justify_content": null,
            "justify_items": null,
            "left": null,
            "margin": null,
            "max_height": null,
            "max_width": null,
            "min_height": null,
            "min_width": null,
            "object_fit": null,
            "object_position": null,
            "order": null,
            "overflow": null,
            "overflow_x": null,
            "overflow_y": null,
            "padding": null,
            "right": null,
            "top": null,
            "visibility": null,
            "width": null
          }
        },
        "e11f1cb91c134a6bb4bdd1cb27b17924": {
          "model_module": "@jupyter-widgets/controls",
          "model_name": "DescriptionStyleModel",
          "model_module_version": "1.5.0",
          "state": {
            "_model_module": "@jupyter-widgets/controls",
            "_model_module_version": "1.5.0",
            "_model_name": "DescriptionStyleModel",
            "_view_count": null,
            "_view_module": "@jupyter-widgets/base",
            "_view_module_version": "1.2.0",
            "_view_name": "StyleView",
            "description_width": ""
          }
        },
        "ab5c235b06ba4adcb104054c63588882": {
          "model_module": "@jupyter-widgets/base",
          "model_name": "LayoutModel",
          "model_module_version": "1.2.0",
          "state": {
            "_model_module": "@jupyter-widgets/base",
            "_model_module_version": "1.2.0",
            "_model_name": "LayoutModel",
            "_view_count": null,
            "_view_module": "@jupyter-widgets/base",
            "_view_module_version": "1.2.0",
            "_view_name": "LayoutView",
            "align_content": null,
            "align_items": null,
            "align_self": null,
            "border": null,
            "bottom": null,
            "display": null,
            "flex": null,
            "flex_flow": null,
            "grid_area": null,
            "grid_auto_columns": null,
            "grid_auto_flow": null,
            "grid_auto_rows": null,
            "grid_column": null,
            "grid_gap": null,
            "grid_row": null,
            "grid_template_areas": null,
            "grid_template_columns": null,
            "grid_template_rows": null,
            "height": null,
            "justify_content": null,
            "justify_items": null,
            "left": null,
            "margin": null,
            "max_height": null,
            "max_width": null,
            "min_height": null,
            "min_width": null,
            "object_fit": null,
            "object_position": null,
            "order": null,
            "overflow": null,
            "overflow_x": null,
            "overflow_y": null,
            "padding": null,
            "right": null,
            "top": null,
            "visibility": null,
            "width": null
          }
        },
        "3a06314748d74a8f9ed564443ce663d6": {
          "model_module": "@jupyter-widgets/controls",
          "model_name": "ProgressStyleModel",
          "model_module_version": "1.5.0",
          "state": {
            "_model_module": "@jupyter-widgets/controls",
            "_model_module_version": "1.5.0",
            "_model_name": "ProgressStyleModel",
            "_view_count": null,
            "_view_module": "@jupyter-widgets/base",
            "_view_module_version": "1.2.0",
            "_view_name": "StyleView",
            "bar_color": null,
            "description_width": ""
          }
        },
        "c7590a94fec9462082d196adf1d82ccc": {
          "model_module": "@jupyter-widgets/base",
          "model_name": "LayoutModel",
          "model_module_version": "1.2.0",
          "state": {
            "_model_module": "@jupyter-widgets/base",
            "_model_module_version": "1.2.0",
            "_model_name": "LayoutModel",
            "_view_count": null,
            "_view_module": "@jupyter-widgets/base",
            "_view_module_version": "1.2.0",
            "_view_name": "LayoutView",
            "align_content": null,
            "align_items": null,
            "align_self": null,
            "border": null,
            "bottom": null,
            "display": null,
            "flex": null,
            "flex_flow": null,
            "grid_area": null,
            "grid_auto_columns": null,
            "grid_auto_flow": null,
            "grid_auto_rows": null,
            "grid_column": null,
            "grid_gap": null,
            "grid_row": null,
            "grid_template_areas": null,
            "grid_template_columns": null,
            "grid_template_rows": null,
            "height": null,
            "justify_content": null,
            "justify_items": null,
            "left": null,
            "margin": null,
            "max_height": null,
            "max_width": null,
            "min_height": null,
            "min_width": null,
            "object_fit": null,
            "object_position": null,
            "order": null,
            "overflow": null,
            "overflow_x": null,
            "overflow_y": null,
            "padding": null,
            "right": null,
            "top": null,
            "visibility": null,
            "width": null
          }
        },
        "1439b0317e374a288803c1a1aa9c7dfb": {
          "model_module": "@jupyter-widgets/controls",
          "model_name": "DescriptionStyleModel",
          "model_module_version": "1.5.0",
          "state": {
            "_model_module": "@jupyter-widgets/controls",
            "_model_module_version": "1.5.0",
            "_model_name": "DescriptionStyleModel",
            "_view_count": null,
            "_view_module": "@jupyter-widgets/base",
            "_view_module_version": "1.2.0",
            "_view_name": "StyleView",
            "description_width": ""
          }
        },
        "44b5375f61b8452084319c5466e21532": {
          "model_module": "@jupyter-widgets/controls",
          "model_name": "HBoxModel",
          "model_module_version": "1.5.0",
          "state": {
            "_dom_classes": [],
            "_model_module": "@jupyter-widgets/controls",
            "_model_module_version": "1.5.0",
            "_model_name": "HBoxModel",
            "_view_count": null,
            "_view_module": "@jupyter-widgets/controls",
            "_view_module_version": "1.5.0",
            "_view_name": "HBoxView",
            "box_style": "",
            "children": [
              "IPY_MODEL_e1766cfc00684cc1a6c6dcb140166354",
              "IPY_MODEL_13a7306fa7a64fd7a2ccda647f363737",
              "IPY_MODEL_63beb6192dda41b188142ffb3737f757"
            ],
            "layout": "IPY_MODEL_2cdb2d77041349988eb4dc9db382acaf"
          }
        },
        "e1766cfc00684cc1a6c6dcb140166354": {
          "model_module": "@jupyter-widgets/controls",
          "model_name": "HTMLModel",
          "model_module_version": "1.5.0",
          "state": {
            "_dom_classes": [],
            "_model_module": "@jupyter-widgets/controls",
            "_model_module_version": "1.5.0",
            "_model_name": "HTMLModel",
            "_view_count": null,
            "_view_module": "@jupyter-widgets/controls",
            "_view_module_version": "1.5.0",
            "_view_name": "HTMLView",
            "description": "",
            "description_tooltip": null,
            "layout": "IPY_MODEL_b06e0375efdb4460a393a1efbb9a6251",
            "placeholder": "​",
            "style": "IPY_MODEL_5603ff6b579e40f39ba41578000a8c7b",
            "value": "Downloading tf_model.h5: 100%"
          }
        },
        "13a7306fa7a64fd7a2ccda647f363737": {
          "model_module": "@jupyter-widgets/controls",
          "model_name": "FloatProgressModel",
          "model_module_version": "1.5.0",
          "state": {
            "_dom_classes": [],
            "_model_module": "@jupyter-widgets/controls",
            "_model_module_version": "1.5.0",
            "_model_name": "FloatProgressModel",
            "_view_count": null,
            "_view_module": "@jupyter-widgets/controls",
            "_view_module_version": "1.5.0",
            "_view_name": "ProgressView",
            "bar_style": "success",
            "description": "",
            "description_tooltip": null,
            "layout": "IPY_MODEL_1022ddd719124b458604da36c1c758de",
            "max": 526681800,
            "min": 0,
            "orientation": "horizontal",
            "style": "IPY_MODEL_35bdb5836e7c4152b0ddc25ecbe29852",
            "value": 526681800
          }
        },
        "63beb6192dda41b188142ffb3737f757": {
          "model_module": "@jupyter-widgets/controls",
          "model_name": "HTMLModel",
          "model_module_version": "1.5.0",
          "state": {
            "_dom_classes": [],
            "_model_module": "@jupyter-widgets/controls",
            "_model_module_version": "1.5.0",
            "_model_name": "HTMLModel",
            "_view_count": null,
            "_view_module": "@jupyter-widgets/controls",
            "_view_module_version": "1.5.0",
            "_view_name": "HTMLView",
            "description": "",
            "description_tooltip": null,
            "layout": "IPY_MODEL_caf339a75738423192bb117a746b53dd",
            "placeholder": "​",
            "style": "IPY_MODEL_4d310edf51d548ae995c58cac60e6cb7",
            "value": " 527M/527M [00:14&lt;00:00, 31.8MB/s]"
          }
        },
        "2cdb2d77041349988eb4dc9db382acaf": {
          "model_module": "@jupyter-widgets/base",
          "model_name": "LayoutModel",
          "model_module_version": "1.2.0",
          "state": {
            "_model_module": "@jupyter-widgets/base",
            "_model_module_version": "1.2.0",
            "_model_name": "LayoutModel",
            "_view_count": null,
            "_view_module": "@jupyter-widgets/base",
            "_view_module_version": "1.2.0",
            "_view_name": "LayoutView",
            "align_content": null,
            "align_items": null,
            "align_self": null,
            "border": null,
            "bottom": null,
            "display": null,
            "flex": null,
            "flex_flow": null,
            "grid_area": null,
            "grid_auto_columns": null,
            "grid_auto_flow": null,
            "grid_auto_rows": null,
            "grid_column": null,
            "grid_gap": null,
            "grid_row": null,
            "grid_template_areas": null,
            "grid_template_columns": null,
            "grid_template_rows": null,
            "height": null,
            "justify_content": null,
            "justify_items": null,
            "left": null,
            "margin": null,
            "max_height": null,
            "max_width": null,
            "min_height": null,
            "min_width": null,
            "object_fit": null,
            "object_position": null,
            "order": null,
            "overflow": null,
            "overflow_x": null,
            "overflow_y": null,
            "padding": null,
            "right": null,
            "top": null,
            "visibility": null,
            "width": null
          }
        },
        "b06e0375efdb4460a393a1efbb9a6251": {
          "model_module": "@jupyter-widgets/base",
          "model_name": "LayoutModel",
          "model_module_version": "1.2.0",
          "state": {
            "_model_module": "@jupyter-widgets/base",
            "_model_module_version": "1.2.0",
            "_model_name": "LayoutModel",
            "_view_count": null,
            "_view_module": "@jupyter-widgets/base",
            "_view_module_version": "1.2.0",
            "_view_name": "LayoutView",
            "align_content": null,
            "align_items": null,
            "align_self": null,
            "border": null,
            "bottom": null,
            "display": null,
            "flex": null,
            "flex_flow": null,
            "grid_area": null,
            "grid_auto_columns": null,
            "grid_auto_flow": null,
            "grid_auto_rows": null,
            "grid_column": null,
            "grid_gap": null,
            "grid_row": null,
            "grid_template_areas": null,
            "grid_template_columns": null,
            "grid_template_rows": null,
            "height": null,
            "justify_content": null,
            "justify_items": null,
            "left": null,
            "margin": null,
            "max_height": null,
            "max_width": null,
            "min_height": null,
            "min_width": null,
            "object_fit": null,
            "object_position": null,
            "order": null,
            "overflow": null,
            "overflow_x": null,
            "overflow_y": null,
            "padding": null,
            "right": null,
            "top": null,
            "visibility": null,
            "width": null
          }
        },
        "5603ff6b579e40f39ba41578000a8c7b": {
          "model_module": "@jupyter-widgets/controls",
          "model_name": "DescriptionStyleModel",
          "model_module_version": "1.5.0",
          "state": {
            "_model_module": "@jupyter-widgets/controls",
            "_model_module_version": "1.5.0",
            "_model_name": "DescriptionStyleModel",
            "_view_count": null,
            "_view_module": "@jupyter-widgets/base",
            "_view_module_version": "1.2.0",
            "_view_name": "StyleView",
            "description_width": ""
          }
        },
        "1022ddd719124b458604da36c1c758de": {
          "model_module": "@jupyter-widgets/base",
          "model_name": "LayoutModel",
          "model_module_version": "1.2.0",
          "state": {
            "_model_module": "@jupyter-widgets/base",
            "_model_module_version": "1.2.0",
            "_model_name": "LayoutModel",
            "_view_count": null,
            "_view_module": "@jupyter-widgets/base",
            "_view_module_version": "1.2.0",
            "_view_name": "LayoutView",
            "align_content": null,
            "align_items": null,
            "align_self": null,
            "border": null,
            "bottom": null,
            "display": null,
            "flex": null,
            "flex_flow": null,
            "grid_area": null,
            "grid_auto_columns": null,
            "grid_auto_flow": null,
            "grid_auto_rows": null,
            "grid_column": null,
            "grid_gap": null,
            "grid_row": null,
            "grid_template_areas": null,
            "grid_template_columns": null,
            "grid_template_rows": null,
            "height": null,
            "justify_content": null,
            "justify_items": null,
            "left": null,
            "margin": null,
            "max_height": null,
            "max_width": null,
            "min_height": null,
            "min_width": null,
            "object_fit": null,
            "object_position": null,
            "order": null,
            "overflow": null,
            "overflow_x": null,
            "overflow_y": null,
            "padding": null,
            "right": null,
            "top": null,
            "visibility": null,
            "width": null
          }
        },
        "35bdb5836e7c4152b0ddc25ecbe29852": {
          "model_module": "@jupyter-widgets/controls",
          "model_name": "ProgressStyleModel",
          "model_module_version": "1.5.0",
          "state": {
            "_model_module": "@jupyter-widgets/controls",
            "_model_module_version": "1.5.0",
            "_model_name": "ProgressStyleModel",
            "_view_count": null,
            "_view_module": "@jupyter-widgets/base",
            "_view_module_version": "1.2.0",
            "_view_name": "StyleView",
            "bar_color": null,
            "description_width": ""
          }
        },
        "caf339a75738423192bb117a746b53dd": {
          "model_module": "@jupyter-widgets/base",
          "model_name": "LayoutModel",
          "model_module_version": "1.2.0",
          "state": {
            "_model_module": "@jupyter-widgets/base",
            "_model_module_version": "1.2.0",
            "_model_name": "LayoutModel",
            "_view_count": null,
            "_view_module": "@jupyter-widgets/base",
            "_view_module_version": "1.2.0",
            "_view_name": "LayoutView",
            "align_content": null,
            "align_items": null,
            "align_self": null,
            "border": null,
            "bottom": null,
            "display": null,
            "flex": null,
            "flex_flow": null,
            "grid_area": null,
            "grid_auto_columns": null,
            "grid_auto_flow": null,
            "grid_auto_rows": null,
            "grid_column": null,
            "grid_gap": null,
            "grid_row": null,
            "grid_template_areas": null,
            "grid_template_columns": null,
            "grid_template_rows": null,
            "height": null,
            "justify_content": null,
            "justify_items": null,
            "left": null,
            "margin": null,
            "max_height": null,
            "max_width": null,
            "min_height": null,
            "min_width": null,
            "object_fit": null,
            "object_position": null,
            "order": null,
            "overflow": null,
            "overflow_x": null,
            "overflow_y": null,
            "padding": null,
            "right": null,
            "top": null,
            "visibility": null,
            "width": null
          }
        },
        "4d310edf51d548ae995c58cac60e6cb7": {
          "model_module": "@jupyter-widgets/controls",
          "model_name": "DescriptionStyleModel",
          "model_module_version": "1.5.0",
          "state": {
            "_model_module": "@jupyter-widgets/controls",
            "_model_module_version": "1.5.0",
            "_model_name": "DescriptionStyleModel",
            "_view_count": null,
            "_view_module": "@jupyter-widgets/base",
            "_view_module_version": "1.2.0",
            "_view_name": "StyleView",
            "description_width": ""
          }
        }
      }
    }
  },
  "nbformat": 4,
  "nbformat_minor": 0
}